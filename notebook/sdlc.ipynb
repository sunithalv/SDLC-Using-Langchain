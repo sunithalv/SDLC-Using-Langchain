{
 "cells": [
  {
   "cell_type": "code",
   "execution_count": 134,
   "metadata": {},
   "outputs": [
    {
     "data": {
      "text/plain": [
       "AIMessage(content='Hello! How can I assist you today?', additional_kwargs={}, response_metadata={'token_usage': {'completion_tokens': 10, 'prompt_tokens': 30, 'total_tokens': 40, 'completion_time': 0.05, 'prompt_time': 0.003692168, 'queue_time': 0.476389019, 'total_time': 0.053692168}, 'model_name': 'qwen-2.5-32b', 'system_fingerprint': 'fp_35f92f8282', 'finish_reason': 'stop', 'logprobs': None}, id='run-f14c1cac-2bbd-4c21-9d39-c44dfb694a37-0', usage_metadata={'input_tokens': 30, 'output_tokens': 10, 'total_tokens': 40})"
      ]
     },
     "execution_count": 134,
     "metadata": {},
     "output_type": "execute_result"
    }
   ],
   "source": [
    "from dotenv import load_dotenv\n",
    "load_dotenv()\n",
    "import os\n",
    "\n",
    "from langchain_groq import ChatGroq\n",
    "from langchain_openai import ChatOpenAI\n",
    "\n",
    "\n",
    "#os.environ[\"OPENAI_API_KEY\"]=os.getenv(\"OPENAI_API_KEY\")\n",
    "os.environ[\"GROQ_API_KEY\"]=os.getenv(\"GROQ_API_KEY\")\n",
    "\n",
    "\n",
    "llm=ChatGroq(model=\"qwen-2.5-32b\")\n",
    "#llm=ChatGroq(model=\"llama-3.3-70b-versatile\")\n",
    "#llm = ChatOpenAI(model=\"gpt-4o\")\n",
    "result=llm.invoke(\"Hello\")\n",
    "result"
   ]
  },
  {
   "cell_type": "code",
   "execution_count": 135,
   "metadata": {},
   "outputs": [],
   "source": [
    "from IPython.display import Image, display\n",
    "\n",
    "from langgraph.checkpoint.memory import MemorySaver\n",
    "from langgraph.graph import START, StateGraph,END\n",
    "from langgraph.prebuilt import tools_condition, ToolNode\n",
    "from langgraph.constants import Send\n",
    "\n",
    "from langchain_core.messages import AIMessage, HumanMessage, SystemMessage\n",
    "from typing_extensions import TypedDict\n",
    "from pydantic import BaseModel, Field\n",
    "from typing import Annotated,List\n",
    "import operator"
   ]
  },
  {
   "cell_type": "code",
   "execution_count": 136,
   "metadata": {},
   "outputs": [],
   "source": [
    "# Schema for structured output to use in planning code architecture\n",
    "class CodeFileType(BaseModel):\n",
    "    name: str = Field(\n",
    "        description=\"Name of the code file with extension\",\n",
    "    )\n",
    "    description: str = Field(\n",
    "        description=\"Description of the functionality in the file\",\n",
    "    )\n",
    "\n",
    "\n",
    "# Schema for structured output to use in planning\n",
    "class CodeFile(BaseModel):\n",
    "    name: str = Field(\n",
    "        description=\"Name of the code file with extension\",\n",
    "    )\n",
    "    code: str = Field(\n",
    "        description=\"Code content of the file\",\n",
    "    )\n",
    "\n",
    "\n",
    "class CodeFileTypes(BaseModel):\n",
    "    codefiletypes: List[CodeFileType] = Field(\n",
    "        description=\"List of code files.\",\n",
    "    )\n",
    "\n",
    "class CodeFiles(BaseModel):\n",
    "    codefiles: List[CodeFile] = Field(\n",
    "        description=\"List of code files.\",\n",
    "    )\n",
    "\n",
    "\n",
    "class DesignDocs(BaseModel):\n",
    "    functional_design: str = Field(\n",
    "        description=\"Functional document based on the user requirements\",\n",
    "    )\n",
    "    technical_design: str = Field(\n",
    "        description=\"Technical document based on the user requirements\",\n",
    "    )"
   ]
  },
  {
   "cell_type": "code",
   "execution_count": 138,
   "metadata": {},
   "outputs": [],
   "source": [
    "class State(TypedDict):\n",
    "    user_requirements:str\n",
    "    user_stories_doc:str\n",
    "    user_stories_review:str\n",
    "    design_docs:DesignDocs\n",
    "    design_review:str\n",
    "    codefiletypes: list[CodeFileType]\n",
    "    codefiles:List[CodeFile]\n",
    "    generated_files: Annotated[\n",
    "        list[CodeFile], operator.add\n",
    "    ]  # All workers write to this key in parallel\n",
    "    generated_code: dict \n",
    "    code_review:str\n",
    "\n",
    "# Worker state\n",
    "class WorkerState(TypedDict):\n",
    "    codefiletype: CodeFileType\n",
    "    generated_files: Annotated[list[CodeFile], operator.add]"
   ]
  },
  {
   "cell_type": "code",
   "execution_count": 139,
   "metadata": {},
   "outputs": [],
   "source": [
    "def user_stories_node(state:State):\n",
    "    \n",
    "    user_stories_instructions=\"\"\"You are tasked with creating a user story based on the given user requirements. \n",
    "    Follow these instructions carefully:\n",
    "\n",
    "    1. First, review the given user requirements carefully:\n",
    "    {user_requirements}\n",
    "            \n",
    "    2. Examine any editorial feedback that has been optionally provided to modify the already generated user story : {user_story} and modify accordingly: \n",
    "            \n",
    "    {user_stories_review}.\n",
    "\n",
    "    3. Use mark down formatting and include no preamble.\n",
    "    \"\"\"\n",
    "    user_stories_review=state.get('user_stories_review', '')\n",
    "    user_story=state.get('user_stories_doc', '')\n",
    "    response=llm.invoke(user_stories_instructions.format(user_requirements=state[\"user_requirements\"],\n",
    "                                                         user_story=user_story,\n",
    "                                                         user_stories_review=user_stories_review))\n",
    "    return {\"user_stories_doc\":response.content}\n",
    "\n",
    "# no-op node that should be interrupted on\n",
    "def human_fb_userstory(state: State):\n",
    "    pass\n",
    "\n",
    "# no-op node that should be interrupted on\n",
    "def human_fb_design(state: State):\n",
    "    pass\n",
    "\n",
    "# no-op node that should be interrupted on\n",
    "def human_fb_code(state: State):\n",
    "    pass"
   ]
  },
  {
   "cell_type": "code",
   "execution_count": 140,
   "metadata": {},
   "outputs": [],
   "source": [
    "def user_story_review(state: State):\n",
    "    \"\"\" Return the next node to execute \"\"\"\n",
    "    # Check if human feedback\n",
    "    user_stories_review=state.get('user_stories_review', None)\n",
    "    print(\"IN USER STORY REVIEW :\",user_stories_review)\n",
    "    if user_stories_review:\n",
    "        return \"user_stories_node\"\n",
    "    \n",
    "    # Otherwise design_documents_node\n",
    "    return \"design_documents_node\""
   ]
  },
  {
   "cell_type": "code",
   "execution_count": 141,
   "metadata": {},
   "outputs": [],
   "source": [
    "def design_documents_node(state:State):\n",
    "    \n",
    "   design_documents_instructions = \"\"\"\n",
    "   You are tasked with creating two design documents - functional and technical respectively, based\n",
    "   on the given user stories. Follow these instructions carefully:\n",
    "\n",
    "   1. First, review the given user stories carefully:\n",
    "   {user_stories_doc}\n",
    "\n",
    "   2. The \"functional_design\" section should include an introduction, system overview, functional requirements, and use cases.\n",
    "      The \"technical_design\" section should include the architecture, technology stack, database schema, API specifications,deployment \n",
    "      and security considerations.\n",
    "\n",
    "   3. If editorial feedback is provided, you **must** update the existing design documents accordingly. The feedback is:  \n",
    "      {design_review}\n",
    "\n",
    "      - Classify each feedback item:\n",
    "      - If it relates to **features, user experience, or functionality**, modify the **functional_design** section.\n",
    "      - If it relates to **database, hosting, security, or APIs**, modify the **technical_design** section.\n",
    "\n",
    "      - Identify the relevant sections in the existing design document:  \n",
    "      {design_doc}\n",
    "\n",
    "      - **Modify** the existing document where necessary. \n",
    "\n",
    "   4. Return the software design document in JSON format with two keys: \"functional_design\" and \"technical_design\".\n",
    "      Each section must be formatted as a Markdown document inside the JSON output. No preamble.\n",
    "   \n",
    "   5. The files should cover all aspects of coding including front end and backend code based on the design.\n",
    "\n",
    "   \"\"\"\n",
    "\n",
    "   design_review=state.get(\"design_review\", \"\")\n",
    "   print(\"IN DESIGN DOCS GEN : \",design_review)\n",
    "   design_doc=state.get(\"design_docs\", \"\")\n",
    "   design_creator=llm.with_structured_output(DesignDocs)\n",
    "   response=design_creator.invoke(design_documents_instructions.format(user_stories_doc=state[\"user_stories_doc\"],\n",
    "                                                                     design_doc=design_doc,\n",
    "                                                                     design_review=design_review))\n",
    "   return {\"design_docs\":response}"
   ]
  },
  {
   "cell_type": "code",
   "execution_count": 142,
   "metadata": {},
   "outputs": [],
   "source": [
    "def design_doc_review(state: State):\n",
    "    \"\"\" Return the next node to execute \"\"\"\n",
    "    # Check if human feedback\n",
    "    design_review=state.get('design_review', None)\n",
    "    print(\"IN DESIGN REVIEW :\",design_review)\n",
    "    if design_review:\n",
    "        return \"design_documents_node\"\n",
    "    \n",
    "    # Otherwise code_generation_node\n",
    "    return \"code_gen_orchestrator\""
   ]
  },
  {
   "cell_type": "code",
   "execution_count": 143,
   "metadata": {},
   "outputs": [],
   "source": [
    "# def code_generation_node(state: State):\n",
    "\n",
    "#     code_gen_instructions=\"\"\"\n",
    "#     You are tasked with generating high-quality, production-ready code based on the given design document. Follow these instructions carefully:  \n",
    "\n",
    "#     1. **Review the provided design document carefully:**  \n",
    "#     {design_docs}  \n",
    "\n",
    "#     - The \"functional_design\" section outlines system behavior, user requirements, and expected workflows.  \n",
    "#     - The \"technical_design\" section details the architecture, technology stack, database schema, API specifications, deployment, and security considerations.  \n",
    "\n",
    "#     2. **Generate well-structured code** based on the specifications:  \n",
    "#     - The files should cover all aspects of coding including front end and backend code based on the design using best coding practices.  \n",
    "#     - Adhere to the specified architecture, design patterns, and technology stack.  \n",
    "#     - Organize the code into appropriate modules, classes, and functions.\n",
    "#     - Place similar files to same sub folder based on functionality.\n",
    "#     - Use meaningful variable names, function names, and inline comments.  \n",
    "#     - Optimize for performance, scalability, and maintainability.  \n",
    "\n",
    "#     3. **Output Format:**  \n",
    "#     - Return a JSON object following this structure:  \n",
    "#     {{\n",
    "#         \"codefiles\": [\n",
    "#             {{\n",
    "#                 \"name\": \"filename.ext\",\n",
    "#                 \"description\": \"Brief explanation of the file's purpose.\",\n",
    "#                 \"code\": \"Complete source code for the file as a string.\"\n",
    "#             }}\n",
    "#         ]\n",
    "#     }}\n",
    "\n",
    "#     Example Output:\n",
    "#     {{\n",
    "#         \"codefiles\": [\n",
    "#             {{\n",
    "#                 \"name\": \"app.py\",\n",
    "#                 \"description\": \"Flask application entry point.\",\n",
    "#                 \"code\": \"from flask import Flask\\\\napp = Flask(__name__)\\\\n@app.route('/')\\\\ndef home():\\\\n    return 'Hello, World!'\\\\nif __name__ == '__main__':\\\\n    app.run(debug=True)\"\n",
    "#             }},\n",
    "#             {{\n",
    "#                 \"name\": \"utils.py\",\n",
    "#                 \"description\": \"Utility functions for common operations.\",\n",
    "#                 \"code\": \"def add(a, b):\\\\n    return a + b\"\n",
    "#             }}\n",
    "#         ]\n",
    "#     }}\n",
    "#     \"\"\"\n",
    "#     code_gen_instructions_prev = \"\"\"\n",
    "#     You are tasked with generating high-quality, production-ready code based on the given design document. Follow these instructions carefully:  \n",
    "\n",
    "#     1. **Review the provided design document carefully:**  \n",
    "#     {design_docs}  \n",
    "\n",
    "#     - The `\"functional_design\"` section outlines system behavior, user requirements, and expected workflows.  \n",
    "#     - The `\"technical_design\"` section details the architecture, technology stack, database schema, API specifications, deployment, and security considerations.  \n",
    "\n",
    "#     2. **Generate multiple well-structured code files** based on the specifications:  \n",
    "#     - Implement all necessary functionality using best coding practices in a modular coding pattern .  \n",
    "#     - Adhere to the specified architecture, design patterns, and technology stack.  \n",
    "#     - Organize the code into appropriate modules, classes, functions and use multiple files for seperate functionalities.  \n",
    "#     - Use meaningful variable names, function names,file names and inline comments.  \n",
    "#     - Optimize for performance, scalability, and maintainability.  \n",
    "\n",
    "#     3. **If editorial feedback is provided, update the existing code accordingly:**  \n",
    "#     {code_review}  \n",
    "\n",
    "#     - Classify each feedback item:  \n",
    "#         - If it relates to **business logic, features, or user experience**, modify the **functional aspects** of the code accordingly.  \n",
    "#         - If it relates to **performance, security, database, or API integration**, modify the **technical implementation** accordingly.  \n",
    "\n",
    "#     - Identify the relevant code files in the optional existing implementation based on feedback:  \n",
    "#     {generated_code}  \n",
    "\n",
    "#     - **Modify** the existing code where necessary. Do not regenerate the entire codebase unless required.  \n",
    "\n",
    "#     4. **Output Format:**  \n",
    "#     - Return a JSON object following this structure:  \n",
    "#         - `\"codefiles\"`: A list of code files, where each file is a dictionary with the following fields:  \n",
    "#             - `\"name\"`: The filename with its extension (e.g., `\"main.py\"`).  \n",
    "#             - `\"description\"`: A brief explanation of the file's purpose.  \n",
    "#             - `\"code\"`: The complete source code for that file as a string.  \n",
    "#     - Ensure the output strictly conforms to this schema.\n",
    "\n",
    "#     Example Output:\n",
    "#     ```json\n",
    "#     {\n",
    "#         \"codefiles\": [\n",
    "#             {\n",
    "#                 \"name\": \"app.py\",\n",
    "#                 \"description\": \"Flask application entry point.\",\n",
    "#                 \"code\": \"from flask import Flask\\napp = Flask(__name__)\\n@app.route('/')\\ndef home():\\n    return 'Hello, World!'\\nif __name__ == '__main__':\\n    app.run(debug=True)\"\n",
    "#             },\n",
    "#             {\n",
    "#                 \"name\": \"utils.py\",\n",
    "#                 \"description\": \"Utility functions for common operations.\",\n",
    "#                 \"code\": \"def add(a, b):\\n    return a + b\"\n",
    "#             }\n",
    "#         ]\n",
    "#     }\n",
    "#     ```\n",
    "#     \"\"\"\n",
    "\n",
    "#     # Retrieve state variables safely\n",
    "#     #code_review = state.get(\"code_review\", \"\")\n",
    "#     design_docs = state.get(\"design_docs\")\n",
    "#     if not design_docs:\n",
    "#         raise ValueError(\"Missing 'design_docs' in state\")  # Prevents KeyError\n",
    "\n",
    "#     # Ensure codefiles is a valid CodeFiles object, not an empty string\n",
    "#     #codefiles = state.get(\"codefiles\", CodeFiles(codefiles=[]))\n",
    "\n",
    "#     # Debugging print statements\n",
    "#     #print(\"IN CODE GEN : \", code_review)\n",
    "\n",
    "#     # generated_code = codefiles.model_dump_json()\n",
    "#     # if not generated_code:\n",
    "#     #     generated_code = '{\"codefiles\": []}'\n",
    "    \n",
    "#     # print(\"Existing Code Files: \", generated_code) \n",
    "#     print('IN CODE GEN')\n",
    "#     # Ensure LLM output follows the expected structure\n",
    "#     code_generator = llm.with_structured_output(CodeFiles)\n",
    "    \n",
    "#     code_gen_input = code_gen_instructions.format(\n",
    "#         design_docs=design_docs,\n",
    "#     )\n",
    "\n",
    "#     try:\n",
    "#         codefiles = code_generator.invoke(code_gen_input)\n",
    "#         print(\"Raw LLM Response:\", codefiles.codefiles)  # Debugging output\n",
    "\n",
    "#         # if not isinstance(codefiles, dict):\n",
    "#         #     raise ValueError(f\"Invalid LLM response type: {type(codefiles)}\")\n",
    "\n",
    "#         # # Parse structured output\n",
    "#         # if \"codefiles\" not in codefiles:\n",
    "#         #     raise KeyError(\"Missing 'codefiles' key in LLM response\")\n",
    "\n",
    "#         return {\"codefiles\": codefiles.codefiles}\n",
    "\n",
    "#     except Exception as e:\n",
    "#         print(f\"Error in LLM invocation: {e}\")\n",
    "#         return {\"codefiles\": []}  # Return empty list in case of failure\n"
   ]
  },
  {
   "cell_type": "code",
   "execution_count": 144,
   "metadata": {},
   "outputs": [],
   "source": [
    "# Nodes\n",
    "def code_gen_orchestrator(state: State):\n",
    "    \"\"\"Orchestrator that generates an architecture plan for the code\"\"\"\n",
    "\n",
    "    orchestrator_instrns=\"\"\"\n",
    "    Generate a production-level code architecture plan based on the provided design document. Follow these instructions carefully to ensure a structured and well-organized folder hierarchy:\n",
    "    1. Define the sub folder structure based on the design documents for placing files of related functionalities.\n",
    "    2. Determine file structure: Generate unique file names with appropriate extensions based on all functionalities specified in the design document.Limit the number of files to 10.\n",
    "    3. Group related files into subfolders based on their functionality.\n",
    "    4. Ensure correct naming convention:\n",
    "    - For each file, include its full path within the \"name\" key \n",
    "    - Ensure every file is assigned to a subfolder when applicable.\n",
    "    5. Provide meaningful descriptions: Each file should have a clear and concise description under the \"description\" key, explaining its purpose and role in the system.\n",
    "    6. Output format: Return a JSON object containing multiple file entries, each with \"name\" and \"description\" keys for multiple files\n",
    "    7. Production-ready best practices: Ensure the folder structure is scalable, modular, aligning with industry standards for production environments.\n",
    "    \"\"\"\n",
    "    # Augment the LLM with schema for structured output\n",
    "    planner = llm.with_structured_output(CodeFileTypes)\n",
    "    # Generate queries\n",
    "    code_files = planner.invoke(\n",
    "        [\n",
    "            SystemMessage(content=orchestrator_instrns),\n",
    "            HumanMessage(content=f\"Here is the functional and technical design: {state[\"design_docs\"]}\"),\n",
    "        ]\n",
    "    )\n",
    "\n",
    "    print(\"Code file structure:\",code_files)\n",
    "\n",
    "    return {\"codefiletypes\": code_files.codefiletypes}"
   ]
  },
  {
   "cell_type": "code",
   "execution_count": 145,
   "metadata": {},
   "outputs": [],
   "source": [
    "def code_generation_node(state: WorkerState):\n",
    "    \"\"\"Worker writes each code file\"\"\"\n",
    "    \n",
    "    coder_llm=llm.with_structured_output(CodeFile)\n",
    "    code_gen_instrns=\"\"\"\n",
    "    Write a code contents for the code file based on the description given.Follow the below instructions carefully.\n",
    "    1. Check for any optional feedback {code_review} and generate the code accordingly.\n",
    "    2. Return the 'name' and 'code' for the file in JSON format.\n",
    "    \"\"\"\n",
    "    # Generate section\n",
    "    code_file = coder_llm.invoke(\n",
    "        [\n",
    "            SystemMessage(\n",
    "                content=code_gen_instrns.format(code_review=state['code_review'])\n",
    "            ),\n",
    "            HumanMessage(\n",
    "                content=f\"Here is the file name: {state['codefiletype'].name} and description: {state['codefiletype'].description}\"\n",
    "            ),\n",
    "        ]\n",
    "    )\n",
    "\n",
    "    # Write the updated section to completed sections\n",
    "    return {\"generated_files\": [code_file]}"
   ]
  },
  {
   "cell_type": "code",
   "execution_count": 146,
   "metadata": {},
   "outputs": [],
   "source": [
    "# Conditional edge function to create code_generation_node workers that each write each code file\n",
    "def assign_workers(state: State):\n",
    "    \"\"\"Assign a worker to each code file in the plan\"\"\"\n",
    "    code_review=state.get('code_review','')\n",
    "    # Kick off section writing in parallel via Send() API\n",
    "    return [Send(\"code_generation_node\", {\"code_review\":code_review,\"codefiletype\": s}) for s in state[\"codefiletypes\"]]"
   ]
  },
  {
   "cell_type": "code",
   "execution_count": null,
   "metadata": {},
   "outputs": [],
   "source": [
    "def code_synthesizer(state: State):\n",
    "    \"\"\"Synthesize full code from multiple code files\"\"\"\n",
    "    # Check if human feedback\n",
    "    code_review=state.get('code_review', None)\n",
    "    print(\"IN code_synthesizer review is :\",code_review)\n",
    "    if code_review:\n",
    "        modifier_files=llm.with_structured_output(CodeFileTypes)\n",
    "        file_modify_instrns=\"\"\"\n",
    "        Examine the code review feedback provided :{code_review}.\n",
    "        The existing code file names with the descriptions is as provided : {codefiletypes}\n",
    "        Identify the code file names that need modifications based on the descriptions and feedback provided.\n",
    "        If feedback requires new files to be added,provide file name and description accordingly.\n",
    "        Return the files to be modified with names and descriptions as a JSON object \n",
    "        \"\"\"\n",
    "        modified_files=modifier_files.invoke(\n",
    "            file_modify_instrns.format(code_review=code_review,codefiletypes=state['codefiletypes']))\n",
    "        print(\"FILES TO BE MODIFIED BASED ON FEEDBACK \",modified_files)\n",
    "        # modifier_code=[Send(\"code_generation_node\", {\"codefiletype\": s}) for s in modified_files]\n",
    "        # print(\"MODIFIED CODE: \",modifier_code)\n",
    "\n",
    "\n",
    "        \n",
    "    # List of completed sections\n",
    "    generated_files = state[\"generated_files\"]\n",
    "    # Convert to dictionary format: {filename: code}\n",
    "    generated_code = {code_file.name: code_file.code for code_file in generated_files}\n",
    "    print(generated_code)\n",
    "    return {\"generated_code\": generated_code}"
   ]
  },
  {
   "cell_type": "code",
   "execution_count": 148,
   "metadata": {},
   "outputs": [],
   "source": [
    "def code_gen_review(state: State):\n",
    "    \"\"\" Return the next node to execute \"\"\"\n",
    "    # Check if human feedback\n",
    "    code_review=state.get('code_review', None)\n",
    "    print(\"IN CODE REVIEW :\",code_review)\n",
    "    if code_review:\n",
    "        return \"code_synthesizer\"\n",
    "    \n",
    "    # Otherwise end\n",
    "    return END"
   ]
  },
  {
   "cell_type": "code",
   "execution_count": 149,
   "metadata": {},
   "outputs": [
    {
     "data": {
      "text/plain": [
       "<langgraph.graph.state.StateGraph at 0x22a40191820>"
      ]
     },
     "execution_count": 149,
     "metadata": {},
     "output_type": "execute_result"
    }
   ],
   "source": [
    "# Graph\n",
    "builder = StateGraph(State)\n",
    "\n",
    "# Define nodes: these do the work\n",
    "builder.add_node(\"user_stories_node\", user_stories_node)\n",
    "builder.add_node(\"human_fb_userstory\", human_fb_userstory)\n",
    "builder.add_node(\"design_documents_node\", design_documents_node)\n",
    "builder.add_node(\"human_fb_design\", human_fb_design)\n",
    "builder.add_node(\"code_gen_orchestrator\", code_gen_orchestrator)\n",
    "builder.add_node(\"code_generation_node\", code_generation_node)\n",
    "builder.add_node(\"code_synthesizer\", code_synthesizer)\n",
    "builder.add_node(\"human_fb_code\", human_fb_code)\n",
    "\n",
    "builder.add_edge(START, \"user_stories_node\")\n",
    "builder.add_edge(\"user_stories_node\", \"human_fb_userstory\")\n",
    "builder.add_conditional_edges(\"human_fb_userstory\", user_story_review, [\"user_stories_node\", \"design_documents_node\"])\n",
    "builder.add_edge(\"design_documents_node\", \"human_fb_design\")\n",
    "builder.add_conditional_edges(\"human_fb_design\", design_doc_review, [\"design_documents_node\", \"code_gen_orchestrator\"])\n",
    "builder.add_conditional_edges(\"code_gen_orchestrator\", assign_workers, [\"code_generation_node\"])\n",
    "builder.add_edge(\"code_generation_node\", \"code_synthesizer\")\n",
    "builder.add_edge(\"code_synthesizer\", \"human_fb_code\")\n",
    "builder.add_conditional_edges(\"human_fb_code\", code_gen_review, [\"code_synthesizer\", END])"
   ]
  },
  {
   "cell_type": "code",
   "execution_count": 150,
   "metadata": {},
   "outputs": [],
   "source": [
    "memory = MemorySaver()\n",
    "thread={\"configurable\":{\"thread_id\":\"1\"}}"
   ]
  },
  {
   "cell_type": "code",
   "execution_count": 151,
   "metadata": {},
   "outputs": [],
   "source": [
    "graph = builder.compile(interrupt_before=[\"human_fb_userstory\",\"human_fb_design\",\"human_fb_code\"], checkpointer=memory)"
   ]
  },
  {
   "cell_type": "code",
   "execution_count": 152,
   "metadata": {},
   "outputs": [
    {
     "data": {
      "image/png": "[encoded data removed]",
      "text/plain": [
       "<IPython.core.display.Image object>"
      ]
     },
     "metadata": {},
     "output_type": "display_data"
    }
   ],
   "source": [
    "# View\n",
    "display(Image(graph.get_graph(xray=1).draw_mermaid_png()))"
   ]
  },
  {
   "cell_type": "code",
   "execution_count": 153,
   "metadata": {},
   "outputs": [],
   "source": [
    "# Run the graph until the first interruption\n",
    "for event in graph.stream({\"user_requirements\":\"Develop a shopping site website in python\"}, thread, stream_mode=\"values\"):\n",
    "    user_stories_doc=event.get(\"user_stories_doc\",'')\n",
    " "
   ]
  },
  {
   "cell_type": "code",
   "execution_count": 154,
   "metadata": {},
   "outputs": [],
   "source": [
    "with open(\"user_stories.md\", \"w\", encoding=\"utf-8\") as f: \n",
    "    f.write(user_stories_doc)\n"
   ]
  },
  {
   "cell_type": "code",
   "execution_count": 155,
   "metadata": {},
   "outputs": [
    {
     "data": {
      "text/plain": [
       "('human_fb_userstory',)"
      ]
     },
     "execution_count": 155,
     "metadata": {},
     "output_type": "execute_result"
    }
   ],
   "source": [
    "state=graph.get_state(thread)\n",
    "state.next"
   ]
  },
  {
   "cell_type": "code",
   "execution_count": 156,
   "metadata": {},
   "outputs": [
    {
     "name": "stdout",
     "output_type": "stream",
     "text": [
      "IN USER STORY REVIEW : Add section for home page display specifications\n"
     ]
    },
    {
     "data": {
      "text/plain": [
       "{'configurable': {'thread_id': '1',\n",
       "  'checkpoint_ns': '',\n",
       "  'checkpoint_id': '1f002839-7e78-6481-8002-1a7053881ec7'}}"
      ]
     },
     "execution_count": 156,
     "metadata": {},
     "output_type": "execute_result"
    }
   ],
   "source": [
    "# We now update the state for human_feedback node\n",
    "graph.update_state(thread, {\"user_stories_review\": \n",
    "                            \"Add section for home page display specifications\"}, as_node=\"human_fb_userstory\")"
   ]
  },
  {
   "cell_type": "code",
   "execution_count": 157,
   "metadata": {},
   "outputs": [],
   "source": [
    "# Continue the graph execution\n",
    "for event in graph.stream(None, thread, stream_mode=\"values\"):\n",
    "    # Review\n",
    "    user_stories_doc = event.get('user_stories_doc', '')\n"
   ]
  },
  {
   "cell_type": "code",
   "execution_count": 158,
   "metadata": {},
   "outputs": [],
   "source": [
    "with open(\"user_stories_review.md\", \"w\", encoding=\"utf-8\") as f: \n",
    "    f.write(user_stories_doc)"
   ]
  },
  {
   "cell_type": "code",
   "execution_count": 159,
   "metadata": {},
   "outputs": [
    {
     "name": "stdout",
     "output_type": "stream",
     "text": [
      "IN USER STORY REVIEW : \n",
      "IN DESIGN DOCS GEN :  \n"
     ]
    }
   ],
   "source": [
    "# We now update the state for human_feedback node with no feedback\n",
    "graph.update_state(thread, {\"user_stories_review\": \n",
    "                            \"\"}, as_node=\"human_fb_userstory\")\n",
    "\n",
    "# Continue the graph execution\n",
    "for event in graph.stream(None, thread, stream_mode=\"values\"):\n",
    "    # Review\n",
    "    design_docs = event.get('design_docs', '')"
   ]
  },
  {
   "cell_type": "code",
   "execution_count": 160,
   "metadata": {},
   "outputs": [],
   "source": [
    "with open(\"functional_design.md\", \"w\", encoding=\"utf-8\") as f: \n",
    "    f.write(design_docs.functional_design)"
   ]
  },
  {
   "cell_type": "code",
   "execution_count": 161,
   "metadata": {},
   "outputs": [],
   "source": [
    "with open(\"technical_design.md\", \"w\", encoding=\"utf-8\") as f: \n",
    "    f.write(design_docs.technical_design)"
   ]
  },
  {
   "cell_type": "code",
   "execution_count": 162,
   "metadata": {},
   "outputs": [
    {
     "name": "stdout",
     "output_type": "stream",
     "text": [
      "IN DESIGN REVIEW : Change the database to SQL and host it in Azure.Also add a wishlist for the user to add products for later use.\n"
     ]
    },
    {
     "data": {
      "text/plain": [
       "{'configurable': {'thread_id': '1',\n",
       "  'checkpoint_ns': '',\n",
       "  'checkpoint_id': '1f002839-b6ff-629a-8006-d2b1986aa353'}}"
      ]
     },
     "execution_count": 162,
     "metadata": {},
     "output_type": "execute_result"
    }
   ],
   "source": [
    "# We now update the state for human_feedback node\n",
    "graph.update_state(thread, {\"design_review\": \n",
    "                            \"Change the database to SQL and host it in Azure.Also add a wishlist for the user to add products for later use.\"},\n",
    "                              as_node=\"human_fb_design\")"
   ]
  },
  {
   "cell_type": "code",
   "execution_count": 163,
   "metadata": {},
   "outputs": [
    {
     "name": "stdout",
     "output_type": "stream",
     "text": [
      "functional_design='# Functional Design Document\\n\\n## Introduction\\nThis document outlines the functional design for the Shopping Site Website.\\n\\n## System Overview\\nThe Shopping Site Website allows users to browse and purchase products online with a user-friendly interface.\\n\\n## Functional Requirements\\n- **Display Featured Products:** The home page will feature a slider of popular products to attract user attention.\\n- **Search Functionality:** Users should be able to type in a search term to find specific products.\\n- **Product Categories:** A section of the homepage will show categories with thumbnail images for quick navigation.\\n- **Highlight New Arrivals and Bestsellers:** A dedicated section will display new arrivals and top-selling products.\\n\\n## Use Cases\\n- **UC1:** User accesses the homepage and sees featured products.\\n- **UC2:** User uses the search bar to find a specific product.\\n- **UC3:** User navigates categories to explore product offerings.\\n- **UC4:** User views new arrivals and bestsellers to discover trending products.' technical_design=\"# Technical Design Document\\n\\n## Architecture\\nThe website will be a client-server architecture, with the front end being a responsive web application and the back end handling the business logic and data storage.\\n\\n## Technology Stack\\n- **Frontend:** HTML, CSS, JavaScript (React.js for dynamic content)\\n- **Backend:** Python (Flask or Django for server-side logic)\\n- **Database:** PostgreSQL for storing product information, user data, and transactions\\n- **Deployment:** Heroku or AWS for hosting the application\\n\\n## Database Schema\\n- **Products Table:** Contains information about each product such as ID, name, description, price, and category.\\n- **Users Table:** Stores user information for account management.\\n\\n## API Specifications\\n- **GET /products:** Returns a list of products.\\n- **GET /products/{id}:** Returns a single product based on its unique identifier.\\n- **POST /products:** Adds a new product to the database.\\n- **PUT /products/{id}:** Updates a product's information.\\n- **DELETE /products/{id}:** Removes a product from the database.\\n\\n## Deployment\\nThe application will be deployed to a cloud service like AWS or Heroku, and will be accessible via a domain name.\\n\\n## Security Considerations\\n- Use HTTPS to secure data transmissions.\\n- Implement user authentication and authorization to control access to the site.\\n- Regularly update the software to patch any security vulnerabilities.\"\n",
      "IN DESIGN DOCS GEN :  Change the database to SQL and host it in Azure.Also add a wishlist for the user to add products for later use.\n",
      "functional_design='# Functional Design Document\\n\\n## Introduction\\nThis document outlines the functional design for the Shopping Site Website.\\n\\n## System Overview\\nThe Shopping Site Website allows users to browse and purchase products online with a user-friendly interface. Users can also save products to a wishlist for future reference.\\n\\n## Functional Requirements\\n- **Display Featured Products:** The home page will feature a slider of popular products to attract user attention.\\n- **Search Functionality:** Users should be able to type in a search term to find specific products.\\n- **Product Categories:** A section of the homepage will show categories with thumbnail images for quick navigation.\\n- **Highlight New Arrivals and Bestsellers:** A dedicated section will display new arrivals and top-selling products.\\n- **Wishlist Feature:** Users can add products to a wishlist for later reference.\\n\\n## Use Cases\\n- **UC1:** User accesses the homepage and sees featured products.\\n- **UC2:** User uses the search bar to find a specific product.\\n- **UC3:** User navigates categories to explore product offerings.\\n- **UC4:** User views new arrivals and bestsellers to discover trending products.\\n- **UC5:** User adds a product to their wishlist for future purchase.\\n' technical_design=\"# Technical Design Document\\n\\n## Architecture\\nThe website will be a client-server architecture, with the front end being a responsive web application and the back end handling the business logic and data storage.\\n\\n## Technology Stack\\n- **Frontend:** HTML, CSS, JavaScript (React.js for dynamic content)\\n- **Backend:** Python (Flask or Django for server-side logic)\\n- **Database:** SQL hosted in Azure for storing product information, user data, and transactions\\n- **Deployment:** Azure for hosting the application\\n\\n## Database Schema\\n- **Products Table:** Contains information about each product such as ID, name, description, price, and category.\\n- **Users Table:** Stores user information for account management.\\n- **Wishlist Table:** Stores user IDs and product IDs for products saved for later purchase.\\n\\n## API Specifications\\n- **GET /products:** Returns a list of products.\\n- **GET /products/{id}:** Returns a single product based on its unique identifier.\\n- **POST /products:** Adds a new product to the database.\\n- **PUT /products/{id}:** Updates a product's information.\\n- **DELETE /products/{id}:** Removes a product from the database.\\n- **GET /wishlist:** Returns a list of products a user has saved to their wishlist.\\n- **POST /wishlist:** Adds a product to the user's wishlist.\\n- **DELETE /wishlist/{id}:** Removes a product from the user's wishlist.\\n\\n## Deployment\\nThe application will be deployed to Azure, and will be accessible via a domain name.\\n\\n## Security Considerations\\n- Use HTTPS to secure data transmissions.\\n- Implement user authentication and authorization to control access to the site.\\n- Regularly update the software to patch any security vulnerabilities.\"\n"
     ]
    }
   ],
   "source": [
    "# Continue the graph execution\n",
    "for event in graph.stream(None, thread, stream_mode=\"values\"):\n",
    "    # Review\n",
    "    design_docs = event.get('design_docs', '')\n",
    "    print(design_docs)"
   ]
  },
  {
   "cell_type": "code",
   "execution_count": 164,
   "metadata": {},
   "outputs": [],
   "source": [
    "with open(\"functional_design_review.md\", \"w\", encoding=\"utf-8\") as f: \n",
    "    f.write(design_docs.functional_design)\n",
    "\n",
    "with open(\"technical_design_review.md\", \"w\", encoding=\"utf-8\") as f: \n",
    "    f.write(design_docs.technical_design)"
   ]
  },
  {
   "cell_type": "code",
   "execution_count": 165,
   "metadata": {},
   "outputs": [
    {
     "name": "stdout",
     "output_type": "stream",
     "text": [
      "IN DESIGN REVIEW : \n",
      "Code file structure: codefiletypes=[CodeFileType(name='frontend/src/App.js', description='Main entry point for the React application, managing the top-level components.'), CodeFileType(name='frontend/src/components/ProductSlider.js', description='Component to display the slider of featured products on the homepage.'), CodeFileType(name='frontend/src/components/SearchBar.js', description='Component for the search input field allowing users to enter search terms.'), CodeFileType(name='frontend/src/components/CategoryGrid.js', description='Component to showcase product categories with thumbnail images.'), CodeFileType(name='frontend/src/components/WishlistManager.js', description='Component for managing the wishlist feature, including adding and removing products.'), CodeFileType(name='backend/app.py', description='Main server file for the Flask application, defining routes and handling business logic.'), CodeFileType(name='backend/models.py', description='File containing the database schema definitions for Products, Users, and Wishlist tables.'), CodeFileType(name='backend/routes.py', description='Defines the API endpoints for handling CRUD operations on products and wishlist management.'), CodeFileType(name='backend/db_config.py', description='Configuration file for connecting to the SQL database hosted on Azure.'), CodeFileType(name='deployment/azure_setup.sh', description='Shell script for setting up and deploying the application on Azure.')]\n",
      "IN code_synthesizer review is : None\n",
      "{'frontend/src/App.js': 'import React from \\'react\\';\\nimport \\'./App.css\\';\\n\\nfunction App() {\\n  return (\\n    <div className=\"App\">\\n      <header className=\"App-header\">\\n        <h1>Welcome to the React App</h1>\\n      </header>\\n    </div>\\n  );\\n}\\n\\nexport default App;\\n', 'frontend/src/components/ProductSlider.js': 'import React from \\'react\\';\\nimport \\'./ProductSlider.css\\';  // Assuming you want to add some custom styles\\n\\n// You may need to import a slider library or use a standard carousel component\\n\\nconst ProductSlider = () => {\\n  // Logic to fetch or receive product data\\n  const products = [];\\n\\n  return (\\n    <div className=\"product-slider\">\\n      <h2>Featured Products</h2>\\n      <div className=\"slider-container\">\\n        {/* Slider or carousel component goes here */}\\n        {products.map(product => (\\n          <div key={product.id} className=\"product-item\">\\n            <img src={product.image} alt={product.name} />\\n            <h3>{product.name}</h3>\\n            <p>{product.price}</p>\\n          </div>\\n        ))}\\n      </div>\\n    </div>\\n  );\\n};\\n\\nexport default ProductSlider;\\n', 'frontend/src/components/SearchBar.js': \"import React, { useState } from 'react';\\n\\nconst SearchBar = () => {\\n  const [searchTerm, setSearchTerm] = useState('');\\n\\n  const handleChange = (event) => {\\n    setSearchTerm(event.target.value);\\n  };\\n\\n  return (\\n    <div>\\n      <input\\n        type='text'\\n        value={searchTerm}\\n        onChange={handleChange}\\n        placeholder='Enter search term'\\n      />\\n    </div>\\n  );\\n};\\n\\nexport default SearchBar;\", 'frontend/src/components/CategoryGrid.js': \"import React from 'react';\\nimport './CategoryGrid.css';\\n\\nconst CategoryGrid = ({ categories }) => {\\n  return (\\n    <div className='category-grid'>\\n      {categories.map((category) => (\\n        <div key={category.id} className='category-item'>\\n          <img src={category.thumbnail} alt={category.name} />\\n          <h3>{category.name}</h3>\\n        </div>\\n      ))}\\n    </div>\\n  );\\n};\\n\\nexport default CategoryGrid;\\n\", 'frontend/src/components/WishlistManager.js': \"import React, { useState, useEffect } from 'react';\\nimport { getProduct, addProductToWishlist, removeProductFromWishlist } from '../services/productService';\\n\\nconst WishlistManager = () => {\\n  const [wishlist, setWishlist] = useState([]);\\n  const [products, setProducts] = useState([]);\\n\\n  useEffect(() => {\\n    // Fetch wishlist and products data here\\n    // Update state with fetched data\\n  }, []);\\n\\n  const handleAddToWishlist = async (productId) => {\\n    await addProductToWishlist(productId);\\n    setWishlist([...wishlist, productId]);\\n  }\\n\\n  const handleRemoveFromWishlist = async (productId) => {\\n    await removeProductFromWishlist(productId);\\n    setWishlist(wishlist.filter(item => item !== productId));\\n  }\\n\\n  return (\\n    <div>\\n      <h1>Manage Wishlist</h1>\\n      <ul>\\n        {wishlist.map((item, index) => (\\n          <li key={index}>\\n            {getProduct(item).name}\\n            <button onClick={() => handleRemoveFromWishlist(item)}>Remove</button>\\n          </li>\\n        ))}\\n      </ul>\\n      <h2>Available Products</h2>\\n      <ul>\\n        {products.map((product, index) => (\\n          <li key={index}>\\n            {product.name}\\n            <button onClick={() => handleAddToWishlist(product.id)}>Add to Wishlist</button>\\n          </li>\\n        ))}\\n      </ul>\\n    </div>\\n  );\\n}\\n\\nexport default WishlistManager;\\n\", 'backend/app.py': \"from flask import Flask, jsonify\\n\\napp = Flask(__name__)\\n\\n@app.route('/health', methods=['GET'])\\ndef health_check():\\n    return jsonify({'status': 'UP'})\\n\\n@app.route('/greet', methods=['GET'])\\ndef greet():\\n    return jsonify({'message': 'Hello, World!'})\\n\\nif __name__ == '__main__':\\n    app.run(debug=True, port=5000)\", 'backend/models.py': \"from sqlalchemy import Column, Integer, String, ForeignKey, Table\\nfrom sqlalchemy.orm import relationship\\nfrom sqlalchemy.ext.declarative import declarative_base\\n\\nBase = declarative_base()\\n\\n\\n# Association table for Wishlist\\nproduct_wishlist = Table(\\n    'product_wishlist', Base.metadata,\\n    Column('product_id', Integer, ForeignKey('product.id')),\\n    Column('wishlist_id', Integer, ForeignKey('wishlist.id'))\\n)\\n\\n\\nclass Product(Base):\\n    __tablename__ = 'product'\\n\\n    id = Column(Integer, primary_key=True)\\n    name = Column(String)\\n    description = Column(String)\\n    price = Column(Integer)\\n\\n\\n\\nclass User(Base):\\n    __tablename__ = 'user'\\n\\n    id = Column(Integer, primary_key=True)\\n    username = Column(String)\\n    email = Column(String)\\n\\n\\n\\nclass Wishlist(Base):\\n    __tablename__ = 'wishlist'\\n\\n    id = Column(Integer, primary_key=True)\\n    user_id = Column(Integer, ForeignKey('user.id'))\\n    products = relationship('Product', secondary=product_wishlist, backref='wishlists')\\n\", 'backend/routes.py': \"from flask import Blueprint, request\\nfrom models import Product, Wishlist\\n\\n# Initialize Blueprint\\nproduct_bp = Blueprint('product', __name__)\\nwishlist_bp = Blueprint('wishlist', __name__)\\n\\n\\n@product_bp.route('/products', methods=['GET'])\\ndef get_products():\\n    # Implement logic to fetch all products\\n    return 'Fetch all products'\\n\\n\\n@product_bp.route('/products', methods=['POST'])\\ndef create_product():\\n    # Implement logic to create a new product\\n    return 'Create a new product'\\n\\n\\n@product_bp.route('/products/<int:product_id>', methods=['GET'])\\ndef get_product(product_id):\\n    # Implement logic to fetch a single product based on ID\\n    return f'Fetch product with ID {product_id}'\\n\\n\\n@product_bp.route('/products/<int:product_id>', methods=['PUT'])\\ndef update_product(product_id):\\n    # Implement logic to update a product based on ID\\n    return f'Update product with ID {product_id}'\\n\\n\\n@product_bp.route('/products/<int:product_id>', methods=['DELETE'])\\ndef delete_product(product_id):\\n    # Implement logic to delete a product based on ID\\n    return f'Delete product with ID {product_id}'\\n\\n\\n@wishlist_bp.route('/wishlist', methods=['POST'])\\ndef add_to_wishlist():\\n    # Implement logic to add a product to the wishlist\\n    return 'Add a product to the wishlist'\\n\\n\\n@wishlist_bp.route('/wishlist', methods=['GET'])\\ndef get_wishlist():\\n    # Implement logic to fetch all items in the wishlist\\n    return 'Fetch all items in the wishlist'\\n\\n\\n@wishlist_bp.route('/wishlist/<int:wishlist_item_id>', methods=['DELETE'])\\ndef remove_from_wishlist(wishlist_item_id):\\n    # Implement logic to remove a product from the wishlist based on ID\\n    return f'Remove a product with ID {wishlist_item_id} from the wishlist'\", 'backend/db_config.py': \"DB_HOST = 'your_azure_host_here'\\nDB_USER = 'your_db_user'\\nDB_PASSWORD = 'your_db_password'\\nDB_NAME = 'your_db_name'\\n\\n# Further configuration settings can be added here as per the application's requirements.\", 'deployment/azure_setup.sh': '#!/bin/bash\\n# This script sets up and deploys the application on Azure.\\n\\n# Define the resource group name\\nRESOURCE_GROUP_NAME=your-resource-group-name\\n\\n# Create a resource group\\naz group create --name $RESOURCE_GROUP_NAME --location eastus\\n\\n# Deploy the application\\n# Add your deployment commands here\\n'}\n",
      "Created file: generated_code\\frontend/src/App.js\n",
      "Created file: generated_code\\frontend/src/components/ProductSlider.js\n",
      "Created file: generated_code\\frontend/src/components/SearchBar.js\n",
      "Created file: generated_code\\frontend/src/components/CategoryGrid.js\n",
      "Created file: generated_code\\frontend/src/components/WishlistManager.js\n",
      "Created file: generated_code\\backend/app.py\n",
      "Created file: generated_code\\backend/models.py\n",
      "Created file: generated_code\\backend/routes.py\n",
      "Created file: generated_code\\backend/db_config.py\n",
      "Created file: generated_code\\deployment/azure_setup.sh\n"
     ]
    }
   ],
   "source": [
    "# We now update the state for human_feedback node with no feedback\n",
    "graph.update_state(thread, {\"design_review\": \n",
    "                            \"\"}, as_node=\"human_fb_design\")\n",
    "# Continue the graph execution\n",
    "for event in graph.stream(None, thread, stream_mode=\"values\"):\n",
    "    generated_code = event.get('generated_code', '')\n",
    "    if generated_code:\n",
    "        # Create the output directory if it doesn't exist\n",
    "        output_dir = \"generated_code\"\n",
    "        os.makedirs(output_dir, exist_ok=True)\n",
    "        for file_name, code_content in generated_code.items():\n",
    "            # Construct the full file path inside the output directory\n",
    "            full_file_path = os.path.join(output_dir, file_name)\n",
    "            # Extract and create the necessary folder structure\n",
    "            folder_path = os.path.dirname(full_file_path)\n",
    "            os.makedirs(folder_path, exist_ok=True)\n",
    "            # Write the code content to the file\n",
    "            with open(full_file_path, \"w\", encoding=\"utf-8\") as f:\n",
    "                f.write(code_content)\n",
    "\n",
    "            print(f\"Created file: {full_file_path}\")"
   ]
  },
  {
   "cell_type": "code",
   "execution_count": 166,
   "metadata": {},
   "outputs": [
    {
     "name": "stdout",
     "output_type": "stream",
     "text": [
      "IN CODE REVIEW : Add a new Homepage.js file to display the landing page with some custom styles.Also make email & username as unique in models.py\n"
     ]
    },
    {
     "data": {
      "text/plain": [
       "{'configurable': {'thread_id': '1',\n",
       "  'checkpoint_ns': '',\n",
       "  'checkpoint_id': '1f00284a-0549-6ad8-800c-bce92641c8bd'}}"
      ]
     },
     "execution_count": 166,
     "metadata": {},
     "output_type": "execute_result"
    }
   ],
   "source": [
    "# We now update the state for human_feedback node\n",
    "graph.update_state(thread, {\"code_review\": \n",
    "                            \"Add a new Homepage.js file to display the landing page with some custom styles.Also make email & username as unique in models.py\"},\n",
    "                              as_node=\"human_fb_code\")"
   ]
  },
  {
   "cell_type": "code",
   "execution_count": 167,
   "metadata": {},
   "outputs": [
    {
     "name": "stdout",
     "output_type": "stream",
     "text": [
      "{'frontend/src/App.js': 'import React from \\'react\\';\\nimport \\'./App.css\\';\\n\\nfunction App() {\\n  return (\\n    <div className=\"App\">\\n      <header className=\"App-header\">\\n        <h1>Welcome to the React App</h1>\\n      </header>\\n    </div>\\n  );\\n}\\n\\nexport default App;\\n', 'frontend/src/components/ProductSlider.js': 'import React from \\'react\\';\\nimport \\'./ProductSlider.css\\';  // Assuming you want to add some custom styles\\n\\n// You may need to import a slider library or use a standard carousel component\\n\\nconst ProductSlider = () => {\\n  // Logic to fetch or receive product data\\n  const products = [];\\n\\n  return (\\n    <div className=\"product-slider\">\\n      <h2>Featured Products</h2>\\n      <div className=\"slider-container\">\\n        {/* Slider or carousel component goes here */}\\n        {products.map(product => (\\n          <div key={product.id} className=\"product-item\">\\n            <img src={product.image} alt={product.name} />\\n            <h3>{product.name}</h3>\\n            <p>{product.price}</p>\\n          </div>\\n        ))}\\n      </div>\\n    </div>\\n  );\\n};\\n\\nexport default ProductSlider;\\n', 'frontend/src/components/SearchBar.js': \"import React, { useState } from 'react';\\n\\nconst SearchBar = () => {\\n  const [searchTerm, setSearchTerm] = useState('');\\n\\n  const handleChange = (event) => {\\n    setSearchTerm(event.target.value);\\n  };\\n\\n  return (\\n    <div>\\n      <input\\n        type='text'\\n        value={searchTerm}\\n        onChange={handleChange}\\n        placeholder='Enter search term'\\n      />\\n    </div>\\n  );\\n};\\n\\nexport default SearchBar;\", 'frontend/src/components/CategoryGrid.js': \"import React from 'react';\\nimport './CategoryGrid.css';\\n\\nconst CategoryGrid = ({ categories }) => {\\n  return (\\n    <div className='category-grid'>\\n      {categories.map((category) => (\\n        <div key={category.id} className='category-item'>\\n          <img src={category.thumbnail} alt={category.name} />\\n          <h3>{category.name}</h3>\\n        </div>\\n      ))}\\n    </div>\\n  );\\n};\\n\\nexport default CategoryGrid;\\n\", 'frontend/src/components/WishlistManager.js': \"import React, { useState, useEffect } from 'react';\\nimport { getProduct, addProductToWishlist, removeProductFromWishlist } from '../services/productService';\\n\\nconst WishlistManager = () => {\\n  const [wishlist, setWishlist] = useState([]);\\n  const [products, setProducts] = useState([]);\\n\\n  useEffect(() => {\\n    // Fetch wishlist and products data here\\n    // Update state with fetched data\\n  }, []);\\n\\n  const handleAddToWishlist = async (productId) => {\\n    await addProductToWishlist(productId);\\n    setWishlist([...wishlist, productId]);\\n  }\\n\\n  const handleRemoveFromWishlist = async (productId) => {\\n    await removeProductFromWishlist(productId);\\n    setWishlist(wishlist.filter(item => item !== productId));\\n  }\\n\\n  return (\\n    <div>\\n      <h1>Manage Wishlist</h1>\\n      <ul>\\n        {wishlist.map((item, index) => (\\n          <li key={index}>\\n            {getProduct(item).name}\\n            <button onClick={() => handleRemoveFromWishlist(item)}>Remove</button>\\n          </li>\\n        ))}\\n      </ul>\\n      <h2>Available Products</h2>\\n      <ul>\\n        {products.map((product, index) => (\\n          <li key={index}>\\n            {product.name}\\n            <button onClick={() => handleAddToWishlist(product.id)}>Add to Wishlist</button>\\n          </li>\\n        ))}\\n      </ul>\\n    </div>\\n  );\\n}\\n\\nexport default WishlistManager;\\n\", 'backend/app.py': \"from flask import Flask, jsonify\\n\\napp = Flask(__name__)\\n\\n@app.route('/health', methods=['GET'])\\ndef health_check():\\n    return jsonify({'status': 'UP'})\\n\\n@app.route('/greet', methods=['GET'])\\ndef greet():\\n    return jsonify({'message': 'Hello, World!'})\\n\\nif __name__ == '__main__':\\n    app.run(debug=True, port=5000)\", 'backend/models.py': \"from sqlalchemy import Column, Integer, String, ForeignKey, Table\\nfrom sqlalchemy.orm import relationship\\nfrom sqlalchemy.ext.declarative import declarative_base\\n\\nBase = declarative_base()\\n\\n\\n# Association table for Wishlist\\nproduct_wishlist = Table(\\n    'product_wishlist', Base.metadata,\\n    Column('product_id', Integer, ForeignKey('product.id')),\\n    Column('wishlist_id', Integer, ForeignKey('wishlist.id'))\\n)\\n\\n\\nclass Product(Base):\\n    __tablename__ = 'product'\\n\\n    id = Column(Integer, primary_key=True)\\n    name = Column(String)\\n    description = Column(String)\\n    price = Column(Integer)\\n\\n\\n\\nclass User(Base):\\n    __tablename__ = 'user'\\n\\n    id = Column(Integer, primary_key=True)\\n    username = Column(String)\\n    email = Column(String)\\n\\n\\n\\nclass Wishlist(Base):\\n    __tablename__ = 'wishlist'\\n\\n    id = Column(Integer, primary_key=True)\\n    user_id = Column(Integer, ForeignKey('user.id'))\\n    products = relationship('Product', secondary=product_wishlist, backref='wishlists')\\n\", 'backend/routes.py': \"from flask import Blueprint, request\\nfrom models import Product, Wishlist\\n\\n# Initialize Blueprint\\nproduct_bp = Blueprint('product', __name__)\\nwishlist_bp = Blueprint('wishlist', __name__)\\n\\n\\n@product_bp.route('/products', methods=['GET'])\\ndef get_products():\\n    # Implement logic to fetch all products\\n    return 'Fetch all products'\\n\\n\\n@product_bp.route('/products', methods=['POST'])\\ndef create_product():\\n    # Implement logic to create a new product\\n    return 'Create a new product'\\n\\n\\n@product_bp.route('/products/<int:product_id>', methods=['GET'])\\ndef get_product(product_id):\\n    # Implement logic to fetch a single product based on ID\\n    return f'Fetch product with ID {product_id}'\\n\\n\\n@product_bp.route('/products/<int:product_id>', methods=['PUT'])\\ndef update_product(product_id):\\n    # Implement logic to update a product based on ID\\n    return f'Update product with ID {product_id}'\\n\\n\\n@product_bp.route('/products/<int:product_id>', methods=['DELETE'])\\ndef delete_product(product_id):\\n    # Implement logic to delete a product based on ID\\n    return f'Delete product with ID {product_id}'\\n\\n\\n@wishlist_bp.route('/wishlist', methods=['POST'])\\ndef add_to_wishlist():\\n    # Implement logic to add a product to the wishlist\\n    return 'Add a product to the wishlist'\\n\\n\\n@wishlist_bp.route('/wishlist', methods=['GET'])\\ndef get_wishlist():\\n    # Implement logic to fetch all items in the wishlist\\n    return 'Fetch all items in the wishlist'\\n\\n\\n@wishlist_bp.route('/wishlist/<int:wishlist_item_id>', methods=['DELETE'])\\ndef remove_from_wishlist(wishlist_item_id):\\n    # Implement logic to remove a product from the wishlist based on ID\\n    return f'Remove a product with ID {wishlist_item_id} from the wishlist'\", 'backend/db_config.py': \"DB_HOST = 'your_azure_host_here'\\nDB_USER = 'your_db_user'\\nDB_PASSWORD = 'your_db_password'\\nDB_NAME = 'your_db_name'\\n\\n# Further configuration settings can be added here as per the application's requirements.\", 'deployment/azure_setup.sh': '#!/bin/bash\\n# This script sets up and deploys the application on Azure.\\n\\n# Define the resource group name\\nRESOURCE_GROUP_NAME=your-resource-group-name\\n\\n# Create a resource group\\naz group create --name $RESOURCE_GROUP_NAME --location eastus\\n\\n# Deploy the application\\n# Add your deployment commands here\\n'}\n",
      "IN code_synthesizer review is : Add a new Homepage.js file to display the landing page with some custom styles.Also make email & username as unique in models.py\n",
      "FILES TO BE MODIFIED BASED ON FEEDBACK  codefiletypes=[CodeFileType(name='frontend/src/App.js', description='Main entry point for the React application, managing the top-level components.'), CodeFileType(name='frontend/src/components/ProductSlider.js', description='Component to display the slider of featured products on the homepage.'), CodeFileType(name='frontend/src/components/SearchBar.js', description='Component for the search input field allowing users to enter search terms.'), CodeFileType(name='frontend/src/components/CategoryGrid.js', description='Component to showcase product categories with thumbnail images.'), CodeFileType(name='frontend/src/components/WishlistManager.js', description='Component for managing the wishlist feature, including adding and removing products.'), CodeFileType(name='backend/app.py', description='Main server file for the Flask application, defining routes and handling business logic.'), CodeFileType(name='backend/models.py', description='File containing the database schema definitions for Products, Users, and Wishlist tables.'), CodeFileType(name='backend/routes.py', description='Defines the API endpoints for handling CRUD operations on products and wishlist management.'), CodeFileType(name='backend/db_config.py', description='Configuration file for connecting to the SQL database hosted on Azure.'), CodeFileType(name='deployment/azure_setup.sh', description='Shell script for setting up and deploying the application on Azure.')]\n",
      "MODIFIED CODE:  [Send(node='code_generation_node', arg={'codefiletype': ('codefiletypes', [CodeFileType(name='frontend/src/App.js', description='Main entry point for the React application, managing the top-level components.'), CodeFileType(name='frontend/src/components/ProductSlider.js', description='Component to display the slider of featured products on the homepage.'), CodeFileType(name='frontend/src/components/SearchBar.js', description='Component for the search input field allowing users to enter search terms.'), CodeFileType(name='frontend/src/components/CategoryGrid.js', description='Component to showcase product categories with thumbnail images.'), CodeFileType(name='frontend/src/components/WishlistManager.js', description='Component for managing the wishlist feature, including adding and removing products.'), CodeFileType(name='backend/app.py', description='Main server file for the Flask application, defining routes and handling business logic.'), CodeFileType(name='backend/models.py', description='File containing the database schema definitions for Products, Users, and Wishlist tables.'), CodeFileType(name='backend/routes.py', description='Defines the API endpoints for handling CRUD operations on products and wishlist management.'), CodeFileType(name='backend/db_config.py', description='Configuration file for connecting to the SQL database hosted on Azure.'), CodeFileType(name='deployment/azure_setup.sh', description='Shell script for setting up and deploying the application on Azure.')])})]\n",
      "{'frontend/src/App.js': 'import React from \\'react\\';\\nimport \\'./App.css\\';\\n\\nfunction App() {\\n  return (\\n    <div className=\"App\">\\n      <header className=\"App-header\">\\n        <h1>Welcome to the React App</h1>\\n      </header>\\n    </div>\\n  );\\n}\\n\\nexport default App;\\n', 'frontend/src/components/ProductSlider.js': 'import React from \\'react\\';\\nimport \\'./ProductSlider.css\\';  // Assuming you want to add some custom styles\\n\\n// You may need to import a slider library or use a standard carousel component\\n\\nconst ProductSlider = () => {\\n  // Logic to fetch or receive product data\\n  const products = [];\\n\\n  return (\\n    <div className=\"product-slider\">\\n      <h2>Featured Products</h2>\\n      <div className=\"slider-container\">\\n        {/* Slider or carousel component goes here */}\\n        {products.map(product => (\\n          <div key={product.id} className=\"product-item\">\\n            <img src={product.image} alt={product.name} />\\n            <h3>{product.name}</h3>\\n            <p>{product.price}</p>\\n          </div>\\n        ))}\\n      </div>\\n    </div>\\n  );\\n};\\n\\nexport default ProductSlider;\\n', 'frontend/src/components/SearchBar.js': \"import React, { useState } from 'react';\\n\\nconst SearchBar = () => {\\n  const [searchTerm, setSearchTerm] = useState('');\\n\\n  const handleChange = (event) => {\\n    setSearchTerm(event.target.value);\\n  };\\n\\n  return (\\n    <div>\\n      <input\\n        type='text'\\n        value={searchTerm}\\n        onChange={handleChange}\\n        placeholder='Enter search term'\\n      />\\n    </div>\\n  );\\n};\\n\\nexport default SearchBar;\", 'frontend/src/components/CategoryGrid.js': \"import React from 'react';\\nimport './CategoryGrid.css';\\n\\nconst CategoryGrid = ({ categories }) => {\\n  return (\\n    <div className='category-grid'>\\n      {categories.map((category) => (\\n        <div key={category.id} className='category-item'>\\n          <img src={category.thumbnail} alt={category.name} />\\n          <h3>{category.name}</h3>\\n        </div>\\n      ))}\\n    </div>\\n  );\\n};\\n\\nexport default CategoryGrid;\\n\", 'frontend/src/components/WishlistManager.js': \"import React, { useState, useEffect } from 'react';\\nimport { getProduct, addProductToWishlist, removeProductFromWishlist } from '../services/productService';\\n\\nconst WishlistManager = () => {\\n  const [wishlist, setWishlist] = useState([]);\\n  const [products, setProducts] = useState([]);\\n\\n  useEffect(() => {\\n    // Fetch wishlist and products data here\\n    // Update state with fetched data\\n  }, []);\\n\\n  const handleAddToWishlist = async (productId) => {\\n    await addProductToWishlist(productId);\\n    setWishlist([...wishlist, productId]);\\n  }\\n\\n  const handleRemoveFromWishlist = async (productId) => {\\n    await removeProductFromWishlist(productId);\\n    setWishlist(wishlist.filter(item => item !== productId));\\n  }\\n\\n  return (\\n    <div>\\n      <h1>Manage Wishlist</h1>\\n      <ul>\\n        {wishlist.map((item, index) => (\\n          <li key={index}>\\n            {getProduct(item).name}\\n            <button onClick={() => handleRemoveFromWishlist(item)}>Remove</button>\\n          </li>\\n        ))}\\n      </ul>\\n      <h2>Available Products</h2>\\n      <ul>\\n        {products.map((product, index) => (\\n          <li key={index}>\\n            {product.name}\\n            <button onClick={() => handleAddToWishlist(product.id)}>Add to Wishlist</button>\\n          </li>\\n        ))}\\n      </ul>\\n    </div>\\n  );\\n}\\n\\nexport default WishlistManager;\\n\", 'backend/app.py': \"from flask import Flask, jsonify\\n\\napp = Flask(__name__)\\n\\n@app.route('/health', methods=['GET'])\\ndef health_check():\\n    return jsonify({'status': 'UP'})\\n\\n@app.route('/greet', methods=['GET'])\\ndef greet():\\n    return jsonify({'message': 'Hello, World!'})\\n\\nif __name__ == '__main__':\\n    app.run(debug=True, port=5000)\", 'backend/models.py': \"from sqlalchemy import Column, Integer, String, ForeignKey, Table\\nfrom sqlalchemy.orm import relationship\\nfrom sqlalchemy.ext.declarative import declarative_base\\n\\nBase = declarative_base()\\n\\n\\n# Association table for Wishlist\\nproduct_wishlist = Table(\\n    'product_wishlist', Base.metadata,\\n    Column('product_id', Integer, ForeignKey('product.id')),\\n    Column('wishlist_id', Integer, ForeignKey('wishlist.id'))\\n)\\n\\n\\nclass Product(Base):\\n    __tablename__ = 'product'\\n\\n    id = Column(Integer, primary_key=True)\\n    name = Column(String)\\n    description = Column(String)\\n    price = Column(Integer)\\n\\n\\n\\nclass User(Base):\\n    __tablename__ = 'user'\\n\\n    id = Column(Integer, primary_key=True)\\n    username = Column(String)\\n    email = Column(String)\\n\\n\\n\\nclass Wishlist(Base):\\n    __tablename__ = 'wishlist'\\n\\n    id = Column(Integer, primary_key=True)\\n    user_id = Column(Integer, ForeignKey('user.id'))\\n    products = relationship('Product', secondary=product_wishlist, backref='wishlists')\\n\", 'backend/routes.py': \"from flask import Blueprint, request\\nfrom models import Product, Wishlist\\n\\n# Initialize Blueprint\\nproduct_bp = Blueprint('product', __name__)\\nwishlist_bp = Blueprint('wishlist', __name__)\\n\\n\\n@product_bp.route('/products', methods=['GET'])\\ndef get_products():\\n    # Implement logic to fetch all products\\n    return 'Fetch all products'\\n\\n\\n@product_bp.route('/products', methods=['POST'])\\ndef create_product():\\n    # Implement logic to create a new product\\n    return 'Create a new product'\\n\\n\\n@product_bp.route('/products/<int:product_id>', methods=['GET'])\\ndef get_product(product_id):\\n    # Implement logic to fetch a single product based on ID\\n    return f'Fetch product with ID {product_id}'\\n\\n\\n@product_bp.route('/products/<int:product_id>', methods=['PUT'])\\ndef update_product(product_id):\\n    # Implement logic to update a product based on ID\\n    return f'Update product with ID {product_id}'\\n\\n\\n@product_bp.route('/products/<int:product_id>', methods=['DELETE'])\\ndef delete_product(product_id):\\n    # Implement logic to delete a product based on ID\\n    return f'Delete product with ID {product_id}'\\n\\n\\n@wishlist_bp.route('/wishlist', methods=['POST'])\\ndef add_to_wishlist():\\n    # Implement logic to add a product to the wishlist\\n    return 'Add a product to the wishlist'\\n\\n\\n@wishlist_bp.route('/wishlist', methods=['GET'])\\ndef get_wishlist():\\n    # Implement logic to fetch all items in the wishlist\\n    return 'Fetch all items in the wishlist'\\n\\n\\n@wishlist_bp.route('/wishlist/<int:wishlist_item_id>', methods=['DELETE'])\\ndef remove_from_wishlist(wishlist_item_id):\\n    # Implement logic to remove a product from the wishlist based on ID\\n    return f'Remove a product with ID {wishlist_item_id} from the wishlist'\", 'backend/db_config.py': \"DB_HOST = 'your_azure_host_here'\\nDB_USER = 'your_db_user'\\nDB_PASSWORD = 'your_db_password'\\nDB_NAME = 'your_db_name'\\n\\n# Further configuration settings can be added here as per the application's requirements.\", 'deployment/azure_setup.sh': '#!/bin/bash\\n# This script sets up and deploys the application on Azure.\\n\\n# Define the resource group name\\nRESOURCE_GROUP_NAME=your-resource-group-name\\n\\n# Create a resource group\\naz group create --name $RESOURCE_GROUP_NAME --location eastus\\n\\n# Deploy the application\\n# Add your deployment commands here\\n'}\n",
      "{'frontend/src/App.js': 'import React from \\'react\\';\\nimport \\'./App.css\\';\\n\\nfunction App() {\\n  return (\\n    <div className=\"App\">\\n      <header className=\"App-header\">\\n        <h1>Welcome to the React App</h1>\\n      </header>\\n    </div>\\n  );\\n}\\n\\nexport default App;\\n', 'frontend/src/components/ProductSlider.js': 'import React from \\'react\\';\\nimport \\'./ProductSlider.css\\';  // Assuming you want to add some custom styles\\n\\n// You may need to import a slider library or use a standard carousel component\\n\\nconst ProductSlider = () => {\\n  // Logic to fetch or receive product data\\n  const products = [];\\n\\n  return (\\n    <div className=\"product-slider\">\\n      <h2>Featured Products</h2>\\n      <div className=\"slider-container\">\\n        {/* Slider or carousel component goes here */}\\n        {products.map(product => (\\n          <div key={product.id} className=\"product-item\">\\n            <img src={product.image} alt={product.name} />\\n            <h3>{product.name}</h3>\\n            <p>{product.price}</p>\\n          </div>\\n        ))}\\n      </div>\\n    </div>\\n  );\\n};\\n\\nexport default ProductSlider;\\n', 'frontend/src/components/SearchBar.js': \"import React, { useState } from 'react';\\n\\nconst SearchBar = () => {\\n  const [searchTerm, setSearchTerm] = useState('');\\n\\n  const handleChange = (event) => {\\n    setSearchTerm(event.target.value);\\n  };\\n\\n  return (\\n    <div>\\n      <input\\n        type='text'\\n        value={searchTerm}\\n        onChange={handleChange}\\n        placeholder='Enter search term'\\n      />\\n    </div>\\n  );\\n};\\n\\nexport default SearchBar;\", 'frontend/src/components/CategoryGrid.js': \"import React from 'react';\\nimport './CategoryGrid.css';\\n\\nconst CategoryGrid = ({ categories }) => {\\n  return (\\n    <div className='category-grid'>\\n      {categories.map((category) => (\\n        <div key={category.id} className='category-item'>\\n          <img src={category.thumbnail} alt={category.name} />\\n          <h3>{category.name}</h3>\\n        </div>\\n      ))}\\n    </div>\\n  );\\n};\\n\\nexport default CategoryGrid;\\n\", 'frontend/src/components/WishlistManager.js': \"import React, { useState, useEffect } from 'react';\\nimport { getProduct, addProductToWishlist, removeProductFromWishlist } from '../services/productService';\\n\\nconst WishlistManager = () => {\\n  const [wishlist, setWishlist] = useState([]);\\n  const [products, setProducts] = useState([]);\\n\\n  useEffect(() => {\\n    // Fetch wishlist and products data here\\n    // Update state with fetched data\\n  }, []);\\n\\n  const handleAddToWishlist = async (productId) => {\\n    await addProductToWishlist(productId);\\n    setWishlist([...wishlist, productId]);\\n  }\\n\\n  const handleRemoveFromWishlist = async (productId) => {\\n    await removeProductFromWishlist(productId);\\n    setWishlist(wishlist.filter(item => item !== productId));\\n  }\\n\\n  return (\\n    <div>\\n      <h1>Manage Wishlist</h1>\\n      <ul>\\n        {wishlist.map((item, index) => (\\n          <li key={index}>\\n            {getProduct(item).name}\\n            <button onClick={() => handleRemoveFromWishlist(item)}>Remove</button>\\n          </li>\\n        ))}\\n      </ul>\\n      <h2>Available Products</h2>\\n      <ul>\\n        {products.map((product, index) => (\\n          <li key={index}>\\n            {product.name}\\n            <button onClick={() => handleAddToWishlist(product.id)}>Add to Wishlist</button>\\n          </li>\\n        ))}\\n      </ul>\\n    </div>\\n  );\\n}\\n\\nexport default WishlistManager;\\n\", 'backend/app.py': \"from flask import Flask, jsonify\\n\\napp = Flask(__name__)\\n\\n@app.route('/health', methods=['GET'])\\ndef health_check():\\n    return jsonify({'status': 'UP'})\\n\\n@app.route('/greet', methods=['GET'])\\ndef greet():\\n    return jsonify({'message': 'Hello, World!'})\\n\\nif __name__ == '__main__':\\n    app.run(debug=True, port=5000)\", 'backend/models.py': \"from sqlalchemy import Column, Integer, String, ForeignKey, Table\\nfrom sqlalchemy.orm import relationship\\nfrom sqlalchemy.ext.declarative import declarative_base\\n\\nBase = declarative_base()\\n\\n\\n# Association table for Wishlist\\nproduct_wishlist = Table(\\n    'product_wishlist', Base.metadata,\\n    Column('product_id', Integer, ForeignKey('product.id')),\\n    Column('wishlist_id', Integer, ForeignKey('wishlist.id'))\\n)\\n\\n\\nclass Product(Base):\\n    __tablename__ = 'product'\\n\\n    id = Column(Integer, primary_key=True)\\n    name = Column(String)\\n    description = Column(String)\\n    price = Column(Integer)\\n\\n\\n\\nclass User(Base):\\n    __tablename__ = 'user'\\n\\n    id = Column(Integer, primary_key=True)\\n    username = Column(String)\\n    email = Column(String)\\n\\n\\n\\nclass Wishlist(Base):\\n    __tablename__ = 'wishlist'\\n\\n    id = Column(Integer, primary_key=True)\\n    user_id = Column(Integer, ForeignKey('user.id'))\\n    products = relationship('Product', secondary=product_wishlist, backref='wishlists')\\n\", 'backend/routes.py': \"from flask import Blueprint, request\\nfrom models import Product, Wishlist\\n\\n# Initialize Blueprint\\nproduct_bp = Blueprint('product', __name__)\\nwishlist_bp = Blueprint('wishlist', __name__)\\n\\n\\n@product_bp.route('/products', methods=['GET'])\\ndef get_products():\\n    # Implement logic to fetch all products\\n    return 'Fetch all products'\\n\\n\\n@product_bp.route('/products', methods=['POST'])\\ndef create_product():\\n    # Implement logic to create a new product\\n    return 'Create a new product'\\n\\n\\n@product_bp.route('/products/<int:product_id>', methods=['GET'])\\ndef get_product(product_id):\\n    # Implement logic to fetch a single product based on ID\\n    return f'Fetch product with ID {product_id}'\\n\\n\\n@product_bp.route('/products/<int:product_id>', methods=['PUT'])\\ndef update_product(product_id):\\n    # Implement logic to update a product based on ID\\n    return f'Update product with ID {product_id}'\\n\\n\\n@product_bp.route('/products/<int:product_id>', methods=['DELETE'])\\ndef delete_product(product_id):\\n    # Implement logic to delete a product based on ID\\n    return f'Delete product with ID {product_id}'\\n\\n\\n@wishlist_bp.route('/wishlist', methods=['POST'])\\ndef add_to_wishlist():\\n    # Implement logic to add a product to the wishlist\\n    return 'Add a product to the wishlist'\\n\\n\\n@wishlist_bp.route('/wishlist', methods=['GET'])\\ndef get_wishlist():\\n    # Implement logic to fetch all items in the wishlist\\n    return 'Fetch all items in the wishlist'\\n\\n\\n@wishlist_bp.route('/wishlist/<int:wishlist_item_id>', methods=['DELETE'])\\ndef remove_from_wishlist(wishlist_item_id):\\n    # Implement logic to remove a product from the wishlist based on ID\\n    return f'Remove a product with ID {wishlist_item_id} from the wishlist'\", 'backend/db_config.py': \"DB_HOST = 'your_azure_host_here'\\nDB_USER = 'your_db_user'\\nDB_PASSWORD = 'your_db_password'\\nDB_NAME = 'your_db_name'\\n\\n# Further configuration settings can be added here as per the application's requirements.\", 'deployment/azure_setup.sh': '#!/bin/bash\\n# This script sets up and deploys the application on Azure.\\n\\n# Define the resource group name\\nRESOURCE_GROUP_NAME=your-resource-group-name\\n\\n# Create a resource group\\naz group create --name $RESOURCE_GROUP_NAME --location eastus\\n\\n# Deploy the application\\n# Add your deployment commands here\\n'}\n"
     ]
    }
   ],
   "source": [
    "# Continue the graph execution\n",
    "for event in graph.stream(None, thread, stream_mode=\"values\"):\n",
    "    # Review\n",
    "    generated_code = event.get('generated_code', '')\n",
    "    print(generated_code)"
   ]
  },
  {
   "cell_type": "code",
   "execution_count": 100,
   "metadata": {},
   "outputs": [
    {
     "name": "stdout",
     "output_type": "stream",
     "text": [
      "{'src/frontend/components/ProductList.js': 'import React from \\'react\\';\\nimport PropTypes from \\'prop-types\\';\\n\\nconst ProductList = ({ products }) => {\\n  return (\\n    <div className=\"product-list\">\\n      {products.map(product => (\\n        <div key={product.id} className=\"product\" data-category={product.category}>\\n          <h2>{product.name}</h2>\\n          <p>{product.description}</p>\\n        </div>\\n      ))}\\n    </div>\\n  );\\n};\\n\\nProductList.propTypes = {\\n  products: PropTypes.arrayOf(\\n    PropTypes.shape({\\n      id: PropTypes.number.isRequired,\\n      name: PropTypes.string.isRequired,\\n      category: PropTypes.string.isRequired,\\n      description: PropTypes.string.isRequired,\\n    })\\n  ).isRequired,\\n};\\n\\nexport default ProductList;', 'src/frontend/components/Cart.js': \"import React, { useState } from 'react';\\n\\nconst Cart = () => {\\n  const [cartItems, setCartItems] = useState([]);\\n\\n  const addItem = (item) => {\\n    setCartItems([...cartItems, item]);\\n  };\\n\\n  const removeItem = (itemId) => {\\n    setCartItems(cartItems.filter(item => item.id !== itemId));\\n  };\\n\\n  const updateItem = (updatedItem) => {\\n    setCartItems(cartItems.map(item => item.id === updatedItem.id ? updatedItem : item));\\n  };\\n\\n  return (\\n    <div>\\n      <h1>Cart</h1>\\n      <ul>\\n        {cartItems.map(item => (\\n          <li key={item.id}>{item.name} - ${item.price}\\n            <button onClick={() => removeItem(item.id)}>Remove</button>\\n          </li>\\n        ))}\\n      </ul>\\n    </div>\\n  );\\n};\\n\\nexport default Cart;\\n\", 'src/frontend/components/Wishlist.js': \"import React, { useState, useEffect } from 'react';\\nimport axios from 'axios';\\n\\nconst Wishlist = () => {\\n  const [wishlistItems, setWishlistItems] = useState([]);\\n\\n  // Fetch wishlist items on component mount\\n  useEffect(() => {\\n    fetchWishlistItems();\\n  }, []);\\n\\n  const fetchWishlistItems = async () => {\\n    try {\\n      const response = await axios.get('/api/wishlist');\\n      setWishlistItems(response.data);\\n    } catch (error) {\\n      console.error('Failed to fetch wishlist items:', error);\\n    }\\n  };\\n\\n  const addToWishlist = async (product) => {\\n    try {\\n      await axios.post('/api/wishlist', product);\\n      fetchWishlistItems();\\n    } catch (error) {\\n      console.error('Failed to add product to wishlist:', error);\\n    }\\n  };\\n\\n  const removeFromWishlist = async (productId) => {\\n    try {\\n      await axios.delete(`/api/wishlist/${productId}`);\\n      fetchWishlistItems();\\n    } catch (error) {\\n      console.error('Failed to remove product from wishlist:', error);\\n    }\\n  };\\n\\n  return (\\n    <div>\\n      <h2>Wishlist</h2>\\n      {wishlistItems.map(item => (\\n        <div key={item.id}>\\n          <p>{item.name}</p>\\n          <button onClick={() => removeFromWishlist(item.id)}>Remove</button>\\n        </div>\\n      ))}\\n    </div>\\n  );\\n};\\n\\nexport default Wishlist;\", 'src/frontend/components/UserAuthentication.js': \"import React, { useState } from 'react';\\nimport jwt_decode from 'jwt-decode';\\nimport axios from 'axios';\\n\\nconst UserAuthentication = () => {\\n  const [user, setUser] = useState(null);\\n  const [token, setToken] = useState(() => {\\n    const storedToken = localStorage.getItem('jwtToken');\\n    return storedToken ? storedToken : null;\\n  });\\n\\n  const login = async (email, password) => {\\n    try {\\n      const response = await axios.post('/api/login', { email, password });\\n      setToken(response.data.token);\\n      localStorage.setItem('jwtToken', response.data.token);\\n      setUser(jwt_decode(response.data.token));\\n    } catch (error) {\\n      console.error('Error during login', error);\\n    }\\n  };\\n\\n  const register = async (name, email, password) => {\\n    try {\\n      await axios.post('/api/register', { name, email, password });\\n      login(email, password);\\n    } catch (error) {\\n      console.error('Error during registration', error);\\n    }\\n  };\\n\\n  const logout = () => {\\n    setToken(null);\\n    localStorage.removeItem('jwtToken');\\n    setUser(null);\\n  };\\n\\n  return {\\n    user,\\n    login,\\n    register,\\n    logout\\n  };\\n};\\n\\nexport default UserAuthentication;\\n\", 'src/backend/views/users.py': \"from flask import Blueprint, request, jsonify\\nfrom werkzeug.security import generate_password_hash, check_password_hash\\n\\nusers_bp = Blueprint('users', __name__)\\n\\n@users_bp.route('/register', methods=['POST'])\\ndef register():\\n    # Extract user data from request\\n    # Hash the password\\n    # Save user to database\\n    return jsonify({'message': 'User registered successfully'}), 201\\n\\n@users_bp.route('/login', methods=['POST'])\\ndef login():\\n    # Extract user credentials from request\\n    # Verify user credentials\\n    # Generate and return JWT token\\n    return jsonify({'token': 'jwt-token'}), 200\\n\\n@users_bp.route('/account', methods=['GET', 'PUT'])\\ndef account():\\n    # Handle account retrieval and updates\\n    return jsonify({'message': 'Account details updated successfully'}), 200\\n\", 'src/backend/views/products.py': \"from django.shortcuts import render, get_object_or_404\\nfrom django.http import HttpResponse, JsonResponse\\nfrom django.views.decorators.csrf import csrf_exempt\\nfrom rest_framework import status\\nfrom rest_framework.decorators import api_view\\nfrom .models import Product\\nfrom .serializers import ProductSerializer\\n\\n\\n@api_view(['GET', 'POST'])\\ndef product_list(request):\\n    if request.method == 'GET':\\n        products = Product.objects.all()\\n        serializer = ProductSerializer(products, many=True)\\n        return JsonResponse(serializer.data, safe=False)\\n\\n    elif request.method == 'POST':\\n        serializer = ProductSerializer(data=request.data)\\n        if serializer.is_valid():\\n            serializer.save()\\n            return JsonResponse(serializer.data, status=status.HTTP_201_CREATED)\\n        return JsonResponse(serializer.errors, status=status.HTTP_400_BAD_REQUEST)\\n\\n\\n@api_view(['GET', 'PUT', 'DELETE'])\\ndef product_detail(request, pk):\\n    product = get_object_or_404(Product, pk=pk)\\n\\n    if request.method == 'GET':\\n        serializer = ProductSerializer(product)\\n        return JsonResponse(serializer.data)\\n\\n    elif request.method == 'PUT':\\n        serializer = ProductSerializer(product, data=request.data)\\n        if serializer.is_valid():\\n            serializer.save()\\n            return JsonResponse(serializer.data)\\n        return JsonResponse(serializer.errors, status=status.HTTP_400_BAD_REQUEST)\\n\\n    elif request.method == 'DELETE':\\n        product.delete()\\n        return HttpResponse(status=status.HTTP_204_NO_CONTENT)\", 'src/backend/views/cart.py': \"# Import necessary modules\\nfrom django.shortcuts import render, redirect\\nfrom django.contrib.auth.decorators import login_required\\nfrom .models import CartItem\\n\\n# Define views for cart management\\n@login_required\\n# View for adding an item to the cart\\ndef add_to_cart(request):\\n    # Add item to the cart logic here\\n    return redirect('cart')\\n\\n@login_required\\n# View for updating an item in the cart\\ndef update_cart(request):\\n    # Update item in the cart logic here\\n    return redirect('cart')\\n\\n@login_required\\n# View for removing an item from the cart\\ndef remove_from_cart(request):\\n    # Remove item from the cart logic here\\n    return redirect('cart')\", 'src/backend/views/wishlist.py': \"# Import necessary packages and modules\\nfrom src.backend.models import WishlistItem\\n\\n\\nclass WishlistView:\\n    def add_item(self, user_id, product_id):\\n        # Logic to add a new item to the user's wishlist\\n        pass\\n\\n    def update_item(self, wishlist_item_id, **kwargs):\\n        # Logic to update the attributes of a wishlist item\\n        pass\\n\\n    def remove_item(self, wishlist_item_id):\\n        # Logic to remove an item from the wishlist\\n        pass\\n\", 'src/backend/views/admin.py': \"from django.shortcuts import render, redirect\\nfrom django.contrib.auth.decorators import login_required\\nfrom django.contrib.admin.views.decorators import staff_member_required\\n\\n@staff_member_required\\n@login_required\\n-def product_management(request):\\n-    # Logic to manage products\\n-    return render(request, 'admin/product_management.html')\\n\\n-def add_product(request):\\n-    # Logic to add product\\n-    return redirect('product_management')\\n\\n-def edit_product(request, product_id):\\n-    # Logic to edit product\\n-    return redirect('product_management')\\n\\n-def delete_product(request, product_id):\\n-    # Logic to delete product\\n-    return redirect('product_management')\", 'src/backend/views/checkout.py': 'def initiate_checkout(request):\\n    # Code to initiate checkout process\\n    pass\\n\\n\\ndef complete_checkout(request):\\n    # Code to complete checkout process\\n    pass'}\n",
      "IN code_synthesizer review is : Use Response Instead of JsonResponse and No Need for csrf_exempt in products.py.Also Use Fragment Instead of Extra <div> in ProductList.js\n",
      "FILES TO BE MODIFIED BASED ON FEEDBACK  codefiletypes=[CodeFileType(name='src/frontend/components/ProductList.js', description='Displays a list of products categorized by type for users to browse.'), CodeFileType(name='src/backend/views/products.py', description='Contains the views for browsing and managing products, including CRUD operations.')]\n",
      "{'src/frontend/components/ProductList.js': 'import React from \\'react\\';\\nimport PropTypes from \\'prop-types\\';\\n\\nconst ProductList = ({ products }) => {\\n  return (\\n    <div className=\"product-list\">\\n      {products.map(product => (\\n        <div key={product.id} className=\"product\" data-category={product.category}>\\n          <h2>{product.name}</h2>\\n          <p>{product.description}</p>\\n        </div>\\n      ))}\\n    </div>\\n  );\\n};\\n\\nProductList.propTypes = {\\n  products: PropTypes.arrayOf(\\n    PropTypes.shape({\\n      id: PropTypes.number.isRequired,\\n      name: PropTypes.string.isRequired,\\n      category: PropTypes.string.isRequired,\\n      description: PropTypes.string.isRequired,\\n    })\\n  ).isRequired,\\n};\\n\\nexport default ProductList;', 'src/frontend/components/Cart.js': \"import React, { useState } from 'react';\\n\\nconst Cart = () => {\\n  const [cartItems, setCartItems] = useState([]);\\n\\n  const addItem = (item) => {\\n    setCartItems([...cartItems, item]);\\n  };\\n\\n  const removeItem = (itemId) => {\\n    setCartItems(cartItems.filter(item => item.id !== itemId));\\n  };\\n\\n  const updateItem = (updatedItem) => {\\n    setCartItems(cartItems.map(item => item.id === updatedItem.id ? updatedItem : item));\\n  };\\n\\n  return (\\n    <div>\\n      <h1>Cart</h1>\\n      <ul>\\n        {cartItems.map(item => (\\n          <li key={item.id}>{item.name} - ${item.price}\\n            <button onClick={() => removeItem(item.id)}>Remove</button>\\n          </li>\\n        ))}\\n      </ul>\\n    </div>\\n  );\\n};\\n\\nexport default Cart;\\n\", 'src/frontend/components/Wishlist.js': \"import React, { useState, useEffect } from 'react';\\nimport axios from 'axios';\\n\\nconst Wishlist = () => {\\n  const [wishlistItems, setWishlistItems] = useState([]);\\n\\n  // Fetch wishlist items on component mount\\n  useEffect(() => {\\n    fetchWishlistItems();\\n  }, []);\\n\\n  const fetchWishlistItems = async () => {\\n    try {\\n      const response = await axios.get('/api/wishlist');\\n      setWishlistItems(response.data);\\n    } catch (error) {\\n      console.error('Failed to fetch wishlist items:', error);\\n    }\\n  };\\n\\n  const addToWishlist = async (product) => {\\n    try {\\n      await axios.post('/api/wishlist', product);\\n      fetchWishlistItems();\\n    } catch (error) {\\n      console.error('Failed to add product to wishlist:', error);\\n    }\\n  };\\n\\n  const removeFromWishlist = async (productId) => {\\n    try {\\n      await axios.delete(`/api/wishlist/${productId}`);\\n      fetchWishlistItems();\\n    } catch (error) {\\n      console.error('Failed to remove product from wishlist:', error);\\n    }\\n  };\\n\\n  return (\\n    <div>\\n      <h2>Wishlist</h2>\\n      {wishlistItems.map(item => (\\n        <div key={item.id}>\\n          <p>{item.name}</p>\\n          <button onClick={() => removeFromWishlist(item.id)}>Remove</button>\\n        </div>\\n      ))}\\n    </div>\\n  );\\n};\\n\\nexport default Wishlist;\", 'src/frontend/components/UserAuthentication.js': \"import React, { useState } from 'react';\\nimport jwt_decode from 'jwt-decode';\\nimport axios from 'axios';\\n\\nconst UserAuthentication = () => {\\n  const [user, setUser] = useState(null);\\n  const [token, setToken] = useState(() => {\\n    const storedToken = localStorage.getItem('jwtToken');\\n    return storedToken ? storedToken : null;\\n  });\\n\\n  const login = async (email, password) => {\\n    try {\\n      const response = await axios.post('/api/login', { email, password });\\n      setToken(response.data.token);\\n      localStorage.setItem('jwtToken', response.data.token);\\n      setUser(jwt_decode(response.data.token));\\n    } catch (error) {\\n      console.error('Error during login', error);\\n    }\\n  };\\n\\n  const register = async (name, email, password) => {\\n    try {\\n      await axios.post('/api/register', { name, email, password });\\n      login(email, password);\\n    } catch (error) {\\n      console.error('Error during registration', error);\\n    }\\n  };\\n\\n  const logout = () => {\\n    setToken(null);\\n    localStorage.removeItem('jwtToken');\\n    setUser(null);\\n  };\\n\\n  return {\\n    user,\\n    login,\\n    register,\\n    logout\\n  };\\n};\\n\\nexport default UserAuthentication;\\n\", 'src/backend/views/users.py': \"from flask import Blueprint, request, jsonify\\nfrom werkzeug.security import generate_password_hash, check_password_hash\\n\\nusers_bp = Blueprint('users', __name__)\\n\\n@users_bp.route('/register', methods=['POST'])\\ndef register():\\n    # Extract user data from request\\n    # Hash the password\\n    # Save user to database\\n    return jsonify({'message': 'User registered successfully'}), 201\\n\\n@users_bp.route('/login', methods=['POST'])\\ndef login():\\n    # Extract user credentials from request\\n    # Verify user credentials\\n    # Generate and return JWT token\\n    return jsonify({'token': 'jwt-token'}), 200\\n\\n@users_bp.route('/account', methods=['GET', 'PUT'])\\ndef account():\\n    # Handle account retrieval and updates\\n    return jsonify({'message': 'Account details updated successfully'}), 200\\n\", 'src/backend/views/products.py': \"from django.shortcuts import render, get_object_or_404\\nfrom django.http import HttpResponse, JsonResponse\\nfrom django.views.decorators.csrf import csrf_exempt\\nfrom rest_framework import status\\nfrom rest_framework.decorators import api_view\\nfrom .models import Product\\nfrom .serializers import ProductSerializer\\n\\n\\n@api_view(['GET', 'POST'])\\ndef product_list(request):\\n    if request.method == 'GET':\\n        products = Product.objects.all()\\n        serializer = ProductSerializer(products, many=True)\\n        return JsonResponse(serializer.data, safe=False)\\n\\n    elif request.method == 'POST':\\n        serializer = ProductSerializer(data=request.data)\\n        if serializer.is_valid():\\n            serializer.save()\\n            return JsonResponse(serializer.data, status=status.HTTP_201_CREATED)\\n        return JsonResponse(serializer.errors, status=status.HTTP_400_BAD_REQUEST)\\n\\n\\n@api_view(['GET', 'PUT', 'DELETE'])\\ndef product_detail(request, pk):\\n    product = get_object_or_404(Product, pk=pk)\\n\\n    if request.method == 'GET':\\n        serializer = ProductSerializer(product)\\n        return JsonResponse(serializer.data)\\n\\n    elif request.method == 'PUT':\\n        serializer = ProductSerializer(product, data=request.data)\\n        if serializer.is_valid():\\n            serializer.save()\\n            return JsonResponse(serializer.data)\\n        return JsonResponse(serializer.errors, status=status.HTTP_400_BAD_REQUEST)\\n\\n    elif request.method == 'DELETE':\\n        product.delete()\\n        return HttpResponse(status=status.HTTP_204_NO_CONTENT)\", 'src/backend/views/cart.py': \"# Import necessary modules\\nfrom django.shortcuts import render, redirect\\nfrom django.contrib.auth.decorators import login_required\\nfrom .models import CartItem\\n\\n# Define views for cart management\\n@login_required\\n# View for adding an item to the cart\\ndef add_to_cart(request):\\n    # Add item to the cart logic here\\n    return redirect('cart')\\n\\n@login_required\\n# View for updating an item in the cart\\ndef update_cart(request):\\n    # Update item in the cart logic here\\n    return redirect('cart')\\n\\n@login_required\\n# View for removing an item from the cart\\ndef remove_from_cart(request):\\n    # Remove item from the cart logic here\\n    return redirect('cart')\", 'src/backend/views/wishlist.py': \"# Import necessary packages and modules\\nfrom src.backend.models import WishlistItem\\n\\n\\nclass WishlistView:\\n    def add_item(self, user_id, product_id):\\n        # Logic to add a new item to the user's wishlist\\n        pass\\n\\n    def update_item(self, wishlist_item_id, **kwargs):\\n        # Logic to update the attributes of a wishlist item\\n        pass\\n\\n    def remove_item(self, wishlist_item_id):\\n        # Logic to remove an item from the wishlist\\n        pass\\n\", 'src/backend/views/admin.py': \"from django.shortcuts import render, redirect\\nfrom django.contrib.auth.decorators import login_required\\nfrom django.contrib.admin.views.decorators import staff_member_required\\n\\n@staff_member_required\\n@login_required\\n-def product_management(request):\\n-    # Logic to manage products\\n-    return render(request, 'admin/product_management.html')\\n\\n-def add_product(request):\\n-    # Logic to add product\\n-    return redirect('product_management')\\n\\n-def edit_product(request, product_id):\\n-    # Logic to edit product\\n-    return redirect('product_management')\\n\\n-def delete_product(request, product_id):\\n-    # Logic to delete product\\n-    return redirect('product_management')\", 'src/backend/views/checkout.py': 'def initiate_checkout(request):\\n    # Code to initiate checkout process\\n    pass\\n\\n\\ndef complete_checkout(request):\\n    # Code to complete checkout process\\n    pass'}\n",
      "{'src/frontend/components/ProductList.js': 'import React from \\'react\\';\\nimport PropTypes from \\'prop-types\\';\\n\\nconst ProductList = ({ products }) => {\\n  return (\\n    <div className=\"product-list\">\\n      {products.map(product => (\\n        <div key={product.id} className=\"product\" data-category={product.category}>\\n          <h2>{product.name}</h2>\\n          <p>{product.description}</p>\\n        </div>\\n      ))}\\n    </div>\\n  );\\n};\\n\\nProductList.propTypes = {\\n  products: PropTypes.arrayOf(\\n    PropTypes.shape({\\n      id: PropTypes.number.isRequired,\\n      name: PropTypes.string.isRequired,\\n      category: PropTypes.string.isRequired,\\n      description: PropTypes.string.isRequired,\\n    })\\n  ).isRequired,\\n};\\n\\nexport default ProductList;', 'src/frontend/components/Cart.js': \"import React, { useState } from 'react';\\n\\nconst Cart = () => {\\n  const [cartItems, setCartItems] = useState([]);\\n\\n  const addItem = (item) => {\\n    setCartItems([...cartItems, item]);\\n  };\\n\\n  const removeItem = (itemId) => {\\n    setCartItems(cartItems.filter(item => item.id !== itemId));\\n  };\\n\\n  const updateItem = (updatedItem) => {\\n    setCartItems(cartItems.map(item => item.id === updatedItem.id ? updatedItem : item));\\n  };\\n\\n  return (\\n    <div>\\n      <h1>Cart</h1>\\n      <ul>\\n        {cartItems.map(item => (\\n          <li key={item.id}>{item.name} - ${item.price}\\n            <button onClick={() => removeItem(item.id)}>Remove</button>\\n          </li>\\n        ))}\\n      </ul>\\n    </div>\\n  );\\n};\\n\\nexport default Cart;\\n\", 'src/frontend/components/Wishlist.js': \"import React, { useState, useEffect } from 'react';\\nimport axios from 'axios';\\n\\nconst Wishlist = () => {\\n  const [wishlistItems, setWishlistItems] = useState([]);\\n\\n  // Fetch wishlist items on component mount\\n  useEffect(() => {\\n    fetchWishlistItems();\\n  }, []);\\n\\n  const fetchWishlistItems = async () => {\\n    try {\\n      const response = await axios.get('/api/wishlist');\\n      setWishlistItems(response.data);\\n    } catch (error) {\\n      console.error('Failed to fetch wishlist items:', error);\\n    }\\n  };\\n\\n  const addToWishlist = async (product) => {\\n    try {\\n      await axios.post('/api/wishlist', product);\\n      fetchWishlistItems();\\n    } catch (error) {\\n      console.error('Failed to add product to wishlist:', error);\\n    }\\n  };\\n\\n  const removeFromWishlist = async (productId) => {\\n    try {\\n      await axios.delete(`/api/wishlist/${productId}`);\\n      fetchWishlistItems();\\n    } catch (error) {\\n      console.error('Failed to remove product from wishlist:', error);\\n    }\\n  };\\n\\n  return (\\n    <div>\\n      <h2>Wishlist</h2>\\n      {wishlistItems.map(item => (\\n        <div key={item.id}>\\n          <p>{item.name}</p>\\n          <button onClick={() => removeFromWishlist(item.id)}>Remove</button>\\n        </div>\\n      ))}\\n    </div>\\n  );\\n};\\n\\nexport default Wishlist;\", 'src/frontend/components/UserAuthentication.js': \"import React, { useState } from 'react';\\nimport jwt_decode from 'jwt-decode';\\nimport axios from 'axios';\\n\\nconst UserAuthentication = () => {\\n  const [user, setUser] = useState(null);\\n  const [token, setToken] = useState(() => {\\n    const storedToken = localStorage.getItem('jwtToken');\\n    return storedToken ? storedToken : null;\\n  });\\n\\n  const login = async (email, password) => {\\n    try {\\n      const response = await axios.post('/api/login', { email, password });\\n      setToken(response.data.token);\\n      localStorage.setItem('jwtToken', response.data.token);\\n      setUser(jwt_decode(response.data.token));\\n    } catch (error) {\\n      console.error('Error during login', error);\\n    }\\n  };\\n\\n  const register = async (name, email, password) => {\\n    try {\\n      await axios.post('/api/register', { name, email, password });\\n      login(email, password);\\n    } catch (error) {\\n      console.error('Error during registration', error);\\n    }\\n  };\\n\\n  const logout = () => {\\n    setToken(null);\\n    localStorage.removeItem('jwtToken');\\n    setUser(null);\\n  };\\n\\n  return {\\n    user,\\n    login,\\n    register,\\n    logout\\n  };\\n};\\n\\nexport default UserAuthentication;\\n\", 'src/backend/views/users.py': \"from flask import Blueprint, request, jsonify\\nfrom werkzeug.security import generate_password_hash, check_password_hash\\n\\nusers_bp = Blueprint('users', __name__)\\n\\n@users_bp.route('/register', methods=['POST'])\\ndef register():\\n    # Extract user data from request\\n    # Hash the password\\n    # Save user to database\\n    return jsonify({'message': 'User registered successfully'}), 201\\n\\n@users_bp.route('/login', methods=['POST'])\\ndef login():\\n    # Extract user credentials from request\\n    # Verify user credentials\\n    # Generate and return JWT token\\n    return jsonify({'token': 'jwt-token'}), 200\\n\\n@users_bp.route('/account', methods=['GET', 'PUT'])\\ndef account():\\n    # Handle account retrieval and updates\\n    return jsonify({'message': 'Account details updated successfully'}), 200\\n\", 'src/backend/views/products.py': \"from django.shortcuts import render, get_object_or_404\\nfrom django.http import HttpResponse, JsonResponse\\nfrom django.views.decorators.csrf import csrf_exempt\\nfrom rest_framework import status\\nfrom rest_framework.decorators import api_view\\nfrom .models import Product\\nfrom .serializers import ProductSerializer\\n\\n\\n@api_view(['GET', 'POST'])\\ndef product_list(request):\\n    if request.method == 'GET':\\n        products = Product.objects.all()\\n        serializer = ProductSerializer(products, many=True)\\n        return JsonResponse(serializer.data, safe=False)\\n\\n    elif request.method == 'POST':\\n        serializer = ProductSerializer(data=request.data)\\n        if serializer.is_valid():\\n            serializer.save()\\n            return JsonResponse(serializer.data, status=status.HTTP_201_CREATED)\\n        return JsonResponse(serializer.errors, status=status.HTTP_400_BAD_REQUEST)\\n\\n\\n@api_view(['GET', 'PUT', 'DELETE'])\\ndef product_detail(request, pk):\\n    product = get_object_or_404(Product, pk=pk)\\n\\n    if request.method == 'GET':\\n        serializer = ProductSerializer(product)\\n        return JsonResponse(serializer.data)\\n\\n    elif request.method == 'PUT':\\n        serializer = ProductSerializer(product, data=request.data)\\n        if serializer.is_valid():\\n            serializer.save()\\n            return JsonResponse(serializer.data)\\n        return JsonResponse(serializer.errors, status=status.HTTP_400_BAD_REQUEST)\\n\\n    elif request.method == 'DELETE':\\n        product.delete()\\n        return HttpResponse(status=status.HTTP_204_NO_CONTENT)\", 'src/backend/views/cart.py': \"# Import necessary modules\\nfrom django.shortcuts import render, redirect\\nfrom django.contrib.auth.decorators import login_required\\nfrom .models import CartItem\\n\\n# Define views for cart management\\n@login_required\\n# View for adding an item to the cart\\ndef add_to_cart(request):\\n    # Add item to the cart logic here\\n    return redirect('cart')\\n\\n@login_required\\n# View for updating an item in the cart\\ndef update_cart(request):\\n    # Update item in the cart logic here\\n    return redirect('cart')\\n\\n@login_required\\n# View for removing an item from the cart\\ndef remove_from_cart(request):\\n    # Remove item from the cart logic here\\n    return redirect('cart')\", 'src/backend/views/wishlist.py': \"# Import necessary packages and modules\\nfrom src.backend.models import WishlistItem\\n\\n\\nclass WishlistView:\\n    def add_item(self, user_id, product_id):\\n        # Logic to add a new item to the user's wishlist\\n        pass\\n\\n    def update_item(self, wishlist_item_id, **kwargs):\\n        # Logic to update the attributes of a wishlist item\\n        pass\\n\\n    def remove_item(self, wishlist_item_id):\\n        # Logic to remove an item from the wishlist\\n        pass\\n\", 'src/backend/views/admin.py': \"from django.shortcuts import render, redirect\\nfrom django.contrib.auth.decorators import login_required\\nfrom django.contrib.admin.views.decorators import staff_member_required\\n\\n@staff_member_required\\n@login_required\\n-def product_management(request):\\n-    # Logic to manage products\\n-    return render(request, 'admin/product_management.html')\\n\\n-def add_product(request):\\n-    # Logic to add product\\n-    return redirect('product_management')\\n\\n-def edit_product(request, product_id):\\n-    # Logic to edit product\\n-    return redirect('product_management')\\n\\n-def delete_product(request, product_id):\\n-    # Logic to delete product\\n-    return redirect('product_management')\", 'src/backend/views/checkout.py': 'def initiate_checkout(request):\\n    # Code to initiate checkout process\\n    pass\\n\\n\\ndef complete_checkout(request):\\n    # Code to complete checkout process\\n    pass'}\n"
     ]
    }
   ],
   "source": [
    "# Continue the graph execution\n",
    "for event in graph.stream(None, thread, stream_mode=\"values\"):\n",
    "    # Review\n",
    "    generated_code = event.get('generated_code', '')\n",
    "    print(generated_code)"
   ]
  },
  {
   "cell_type": "code",
   "execution_count": null,
   "metadata": {},
   "outputs": [],
   "source": []
  },
  {
   "cell_type": "code",
   "execution_count": null,
   "metadata": {},
   "outputs": [],
   "source": []
  },
  {
   "cell_type": "markdown",
   "metadata": {},
   "source": [
    "## ORCHESTRATOR SAMPLE IMPLMN"
   ]
  },
  {
   "cell_type": "code",
   "execution_count": 132,
   "metadata": {},
   "outputs": [],
   "source": [
    "#Orchestrator to generate code\n",
    "\n",
    "from typing import Annotated, List\n",
    "import operator\n",
    "\n",
    "\n",
    "# Schema for structured output to use in planning\n",
    "class CodeFileType(BaseModel):\n",
    "    name: str = Field(\n",
    "        description=\"Name of the code file with extension\",\n",
    "    )\n",
    "    description: str = Field(\n",
    "        description=\"Description of the functionality in the file\",\n",
    "    )\n",
    "\n",
    "\n",
    "# Schema for structured output to use in planning\n",
    "class CodeFile(BaseModel):\n",
    "    name: str = Field(\n",
    "        description=\"Name of the code file with extension\",\n",
    "    )\n",
    "    code: str = Field(\n",
    "        description=\"Code content of the file\",\n",
    "    )\n",
    "\n",
    "\n",
    "class CodeFileTypes(BaseModel):\n",
    "    codefiletypes: List[CodeFileType] = Field(\n",
    "        description=\"List of code files.\",\n",
    "    )\n",
    "\n",
    "# class CodeFiles(BaseModel):\n",
    "#     codefiles: List[CodeFile] = Field(\n",
    "#         description=\"List of code files.\",\n",
    "#     )\n",
    "\n",
    "\n",
    "# Augment the LLM with schema for structured output\n",
    "planner = llm.with_structured_output(CodeFileTypes)"
   ]
  },
  {
   "cell_type": "code",
   "execution_count": 133,
   "metadata": {},
   "outputs": [],
   "source": [
    "from langgraph.constants import Send\n",
    "\n",
    "\n",
    "# Graph state\n",
    "class State(TypedDict):\n",
    "    design_docs: str  # Report topic\n",
    "    codefiletypes: list[CodeFileType]  # List of report sections\n",
    "    codefiles: list[CodeFile]  # List of report sections\n",
    "    generated_files: Annotated[\n",
    "        list[CodeFile], operator.add\n",
    "    ]  # All workers write to this key in parallel\n",
    "    generated_code: str  # Final generated code\n",
    "\n",
    "# Worker state\n",
    "class WorkerState(TypedDict):\n",
    "    codefiletype: CodeFileType\n",
    "    generated_files: Annotated[list[CodeFile], operator.add]"
   ]
  },
  {
   "cell_type": "code",
   "execution_count": 134,
   "metadata": {},
   "outputs": [
    {
     "data": {
      "text/plain": [
       "DesignDocs(functional_design=\"# Functional Design Document\\n\\n## Introduction\\nThis document outlines the functional design of the shopping website developed using Python. It aims to provide a comprehensive overview of the system's functionalities, intended to enhance the user experience and meet the requirements specified in the user stories.\\n\\n## System Overview\\nThe shopping website will allow users to register, browse products, add items to their cart, and complete purchases. The system is designed to provide a seamless shopping experience for users through an intuitive and user-friendly interface.\\n\\n## Functional Requirements\\n1. User registration and login system\\n2. Product browsing with descriptions and price display\\n3. Cart functionality allowing users to add products and view their selections\\n4. Checkout process with secure payment and shipping information collection\\n5. Home page showcasing a welcome message, featured products, and a call to action\\n6. Wishlist functionality for users to save products for later use\\n\\n## Use Cases\\n- **Use Case 1:** New users can create an account and log in to access the system's full features.\\n- **Use Case 2:** Registered users can browse through available products and their details.\\n- **Use Case 3:** Users can select products and add them to their cart for purchase.\\n- **Use Case 4:** Users can proceed to checkout, entering necessary shipping and payment information.\\n- **Use Case 5:** The website's home page provides a welcoming introduction and highlights the shop's offerings.\\n- **Use Case 6:** Users can save products to a wishlist for future reference.\\n\", technical_design='# Technical Design Document\\n\\n## Architecture\\nThe system will be built using a client-server architecture with a web interface for the user and a backend server to handle business logic and data storage.\\n\\n## Technology Stack\\n- **Frontend:** HTML, CSS, JavaScript, and a JavaScript framework like React or Vue.js\\n- **Backend:** Python with a web framework like Django or Flask\\n- **Database:** SQL (Azure SQL Database) for persistent storage\\n- **Hosting:** Microsoft Azure\\n\\n## Database Schema\\n- **Users Table:** id, username, password_hash, email\\n- **Products Table:** id, name, description, price, stock\\n- **Cart Table:** id, user_id, product_id, quantity\\n- **Orders Table:** id, user_id, total, status\\n- **Wishlist Table:** id, user_id, product_id\\n\\n## API Specifications\\n- **User APIs:** Register, Login, Logout\\n- **Product APIs:** Browse, View Details\\n- **Cart APIs:** Add Product, Remove Product, View Cart\\n- **Checkout APIs:** Begin Checkout, Submit Order\\n- **Wishlist APIs:** Add Product, Remove Product, View Wishlist\\n\\n## Deployment\\n- Continuous Integration/Continuous Deployment (CI/CD) pipelines to automate testing and deployment processes.\\n- Containerization with Docker for consistent deployment across different environments.\\n\\n## Security Considerations\\n- Secure user authentication and session management\\n- Secure password storage with hashing\\n- Protection against common web vulnerabilities through secure coding practices and web application firewalls')"
      ]
     },
     "execution_count": 134,
     "metadata": {},
     "output_type": "execute_result"
    }
   ],
   "source": [
    "design_docs"
   ]
  },
  {
   "cell_type": "code",
   "execution_count": null,
   "metadata": {},
   "outputs": [],
   "source": [
    "# Nodes\n",
    "def orchestrator(state: State):\n",
    "    \"\"\"Orchestrator that generates a plan for the code\"\"\"\n",
    "\n",
    "    orchestrator_instrns=\"\"\"\n",
    "    Generate a production-level code architecture plan based on the provided design document. Follow these instructions carefully to ensure a structured and well-organized folder hierarchy:\n",
    "    1. Define the sub folder structure based on the design documents for placing files of related functionalities.\n",
    "    2. Determine file structure: Generate file names with appropriate extensions based on all functionalities specified in the design document.Limit the number of files to 10.\n",
    "    3. Group related files into subfolders based on their functionality.\n",
    "    4. Ensure correct naming convention:\n",
    "    - For each file, include its full path within the \"name\" key \n",
    "    - Ensure every file is assigned to a subfolder when applicable.\n",
    "    5. Provide meaningful descriptions: Each file should have a clear and concise description under the \"description\" key, explaining its purpose and role in the system.\n",
    "    6. Output format: Return a JSON object containing multiple file entries, each with \"name\" and \"description\" keys for multiple files\n",
    "    7. Production-ready best practices: Ensure the folder structure is scalable, modular, aligning with industry standards for production environments.\n",
    "    \"\"\"\n",
    "\n",
    "    # Generate queries\n",
    "    code_files = planner.invoke(\n",
    "        [\n",
    "            SystemMessage(content=orchestrator_instrns),\n",
    "            HumanMessage(content=f\"Here is the functional and technical design: {design_docs}\"),\n",
    "        ]\n",
    "    )\n",
    "\n",
    "    print(\"Code file structure:\",code_files)\n",
    "\n",
    "    return {\"codefiletypes\": code_files.codefiletypes}"
   ]
  },
  {
   "cell_type": "code",
   "execution_count": 136,
   "metadata": {},
   "outputs": [],
   "source": [
    "def llm_call(state: WorkerState):\n",
    "    \"\"\"Worker writes each code file\"\"\"\n",
    "    \n",
    "    coder_llm=llm.with_structured_output(CodeFile)\n",
    "    # Generate section\n",
    "    code_file = coder_llm.invoke(\n",
    "        [\n",
    "            SystemMessage(\n",
    "                content=\"Write a code contents for the code file based on the description given. Return the 'name' and 'code' for the file in JSON format.\"\n",
    "            ),\n",
    "            HumanMessage(\n",
    "                content=f\"Here is the file name: {state['codefiletype'].name} and description: {state['codefiletype'].description}\"\n",
    "            ),\n",
    "        ]\n",
    "    )\n",
    "\n",
    "    # Write the updated section to completed sections\n",
    "    return {\"generated_files\": [code_file]}"
   ]
  },
  {
   "cell_type": "code",
   "execution_count": 137,
   "metadata": {},
   "outputs": [],
   "source": [
    "# Conditional edge function to create llm_call workers that each write each code file\n",
    "def assign_workers(state: State):\n",
    "    \"\"\"Assign a worker to each code file in the plan\"\"\"\n",
    "\n",
    "    # Kick off section writing in parallel via Send() API\n",
    "    return [Send(\"llm_call\", {\"codefiletype\": s}) for s in state[\"codefiletypes\"]]"
   ]
  },
  {
   "cell_type": "code",
   "execution_count": 158,
   "metadata": {},
   "outputs": [],
   "source": [
    "from itertools import chain\n",
    "def synthesizer(state: State):\n",
    "    \"\"\"Synthesize full code from multiple code files\"\"\"\n",
    "\n",
    "    # List of completed sections\n",
    "    generated_files = state[\"generated_files\"]\n",
    "    # Convert to dictionary format: {filename: code}\n",
    "    generated_code = {code_file.name: code_file.code for code_file in generated_files}\n",
    "    print(generated_code)\n",
    "    return {\"generated_code\": generated_code}\n"
   ]
  },
  {
   "cell_type": "code",
   "execution_count": 159,
   "metadata": {},
   "outputs": [
    {
     "data": {
      "image/png": "[encoded data removed]",
      "text/plain": [
       "<IPython.core.display.Image object>"
      ]
     },
     "metadata": {},
     "output_type": "display_data"
    }
   ],
   "source": [
    "# Build workflow\n",
    "orchestrator_worker_builder = StateGraph(State)\n",
    "\n",
    "# Add the nodes\n",
    "orchestrator_worker_builder.add_node(\"orchestrator\", orchestrator)\n",
    "orchestrator_worker_builder.add_node(\"llm_call\", llm_call)\n",
    "orchestrator_worker_builder.add_node(\"synthesizer\", synthesizer)\n",
    "\n",
    "# Add edges to connect nodes\n",
    "orchestrator_worker_builder.add_edge(START, \"orchestrator\")\n",
    "orchestrator_worker_builder.add_conditional_edges(\n",
    "    \"orchestrator\", assign_workers, [\"llm_call\"]\n",
    ")\n",
    "orchestrator_worker_builder.add_edge(\"llm_call\", \"synthesizer\")\n",
    "orchestrator_worker_builder.add_edge(\"synthesizer\", END)\n",
    "\n",
    "# Compile the workflow\n",
    "orchestrator_worker = orchestrator_worker_builder.compile()\n",
    "\n",
    "# Show the workflow\n",
    "display(Image(orchestrator_worker.get_graph().draw_mermaid_png()))\n",
    "\n"
   ]
  },
  {
   "cell_type": "code",
   "execution_count": 160,
   "metadata": {},
   "outputs": [
    {
     "name": "stdout",
     "output_type": "stream",
     "text": [
      "Code file structure: codefiletypes=[CodeFileType(name='src/app.py', description='Main entry point of the application. It sets up the Flask server and routes.'), CodeFileType(name='src/users.py', description='Contains functions for user registration, login, and logout. Handles user session management.'), CodeFileType(name='src/products.py', description='Includes functions for browsing and viewing product details. Manages the product data in the database.'), CodeFileType(name='src/cart.py', description='Provides functionalities to add, remove, and view items in the cart. Interacts with the database for cart data management.'), CodeFileType(name='src/checkout.py', description='Handles the checkout process, including payment and order submission. Integrates with secure payment gateways.'), CodeFileType(name='src/wishlist.py', description='Contains functions for adding, removing, and viewing items in the wishlist. Manages wishlist data in the database.'), CodeFileType(name='src/templates/home.html', description='HTML template for the home page, providing a welcoming interface with featured products and calls to action.'), CodeFileType(name='src/static/styles.css', description='CSS file for styling the application, ensuring a consistent and visually appealing UI.'), CodeFileType(name='src/models.py', description='Database models for Users, Products, Cart, Orders, and Wishlist. Defines the schema and interactions with the Azure SQL Database.'), CodeFileType(name='src/utils.py', description='Utility functions for common tasks like data validation, hashing, and session handling.')]\n",
      "{'src/app.py': \"from flask import Flask\\n\\napp = Flask(__name__)\\n\\n@app.route('/\\\\')\\ndef home():\\n    return 'Welcome to the Flask app!'\\n\\nif __name__ == '__main__':\\n    app.run(debug=True)\", 'src/users.py': 'def register_user(user_data):\\n    # Function to register a new user\\n    pass\\n\\ndef login_user(user_credentials):\\n    # Function to handle user login\\n    pass\\n\\ndef logout_user(session_id):\\n    # Function to handle user logout\\n    pass\\n\\ndef manage_user_session(session_id):\\n    # Function to manage user session\\n    pass', 'src/products.py': 'def browse_products():\\n    # Code to browse products\\n    pass\\n\\ndef view_product_details(product_id):\\n    # Code to view product details\\n    pass\\n\\ndef manage_product_data():\\n    # Code to manage product data in the database\\n    pass', 'src/cart.py': 'class Cart:\\n    def __init__(self, db_connection):\\n        self.db_connection = db_connection\\n\\n    def add_item(self, item_id, quantity):\\n        # Add item to the cart\\n        pass\\n\\n    def remove_item(self, item_id):\\n        # Remove item from the cart\\n        pass\\n\\n    def view_items(self):\\n        # Return a list of items in the cart\\n        pass', 'src/checkout.py': 'def handle_checkout(payment_info, order_details):\\n    # Code to process the payment using secure payment gateways\\n    pass\\n\\n    # Code to submit the order\\n    pass', 'src/wishlist.py': 'def add_item_to_wishlist(item):\\n    # Add item to wishlist in the database\\n    pass\\n\\ndef remove_item_from_wishlist(item):\\n    # Remove item from wishlist in the database\\n    pass\\n\\ndef view_wishlist():\\n    # Retrieve and return the wishlist items from the database\\n    pass', 'src/templates/home.html': '<!DOCTYPE html>\\n<html lang=\"en\">\\n<head>\\n    <meta charset=\"UTF-8\">\\n    <meta name=\"viewport\" content=\"width=device-width, initial-scale=1.0\">\\n    <title>Welcome to Our Store</title>\\n</head>\\n<body>\\n    <header>\\n        <h1>Welcome to Our Online Store!</h1>\\n    </header>\\n    <main>\\n        <section>\\n            <h2>Featured Products</h2>\\n            <ul>\\n                <!-- Featured products will be dynamically inserted here -->\\n                <li>Product 1</li>\\n                <li>Product 2</li>\\n                <li>Product 3</li>\\n            </ul>\\n        </section>\\n        <section>\\n            <h2>Call to Action</h2>\\n            <p>Explore our selection and find the best deals on the market!</p>\\n            <button>Shop Now</button>\\n        </section>\\n    </main>\\n    <footer>\\n        <p>&copy; 2023 Our Online Store. All rights reserved.</p>\\n    </footer>\\n</body>\\n</html>', 'src/static/styles.css': '/* CSS file for styling the application, ensuring a consistent and visually appealing UI.\\n\\nReset some default browser styles\\n*/\\n* {\\n  margin: 0;\\n  padding: 0;\\n  box-sizing: border-box;\\n}\\n\\n/* Basic styles for the body */\\nbody {\\n  font-family: Arial, sans-serif;\\n  line-height: 1.6;\\n  background-color: #f4f4f4;\\n  color: #333;\\n}\\n\\n/* Container to center the content */\\n.container {\\n  width: 80%;\\n  margin: auto;\\n  overflow: hidden;\\n}\\n\\n/* Header styles */\\nheader {\\n  background: #35424a;\\n  color: #ffffff;\\n  padding-top: 30px;\\n  min-height: 70px;\\n  border-bottom: #e8491d 3px solid;\\n}\\n\\nheader h1, header p {\\n  text-align: center;\\n}\\n\\n/* Navigation styles */\\nnav {\\n  float: right;\\n  margin-top: 26px;\\n}\\n\\nnav ul {\\n  list-style: none;\\n}\\n\\nnav ul li {\\n  display: inline;\\n  margin-left: 30px;\\n}\\n\\nnav ul li a {\\n  color: #ffffff;\\n  text-decoration: none;\\n  text-transform: uppercase;\\n}\\n\\nnav ul li a:hover {\\n  border-bottom: 2px solid #e8491d;\\n}\\n\\n/* Main content styles */\\nmain {\\n  padding: 20px;\\n}\\n\\n/* Footer styles */\\nfooter {\\n  background: #35424a;\\n  color: #ffffff;\\n  text-align: center;\\n  padding: 10px;\\n}\\n\\n/* Responsive media query */\\n@media (max-width: 768px) {\\n  .container {\\n    width: 95%;\\n  }\\n\\n  nav {\\n    float: none;\\n  }\\n}', 'src/models.py': \"from flask_sqlalchemy import SQLAlchemy\\nfrom flask import Flask\\n\\napp = Flask(__name__)\\napp.config['SQLALCHEMY_DATABASE_URI'] = 'your_azure_sql_db_connection_string'\\ndb = SQLAlchemy(app)\\n\\n\\n# User model\\nclass User(db.Model):\\n    id = db.Column(db.Integer, primary_key=True)\\n    username = db.Column(db.String(80), unique=True, nullable=False)\\n    email = db.Column(db.String(120), unique=True, nullable=False)\\n    password = db.Column(db.String(120), nullable=False)\\n    carts = db.relationship('Cart', backref='user', lazy=True)\\n    orders = db.relationship('Order', backref='user', lazy=True)\\n    wishlists = db.relationship('Wishlist', backref='user', lazy=True)\\n\\n    def __repr__(self):\\n        return '<User %r>' % self.username\\n\\n\\n# Product model\\nclass Product(db.Model):\\n    id = db.Column(db.Integer, primary_key=True)\\n    name = db.Column(db.String(120), nullable=False)\\n    price = db.Column(db.Float, nullable=False)\\n    description = db.Column(db.String(200), nullable=True)\\n\\n    def __repr__(self):\\n        return '<Product %r>' % self.name\\n\\n\\n# Cart model\\nclass Cart(db.Model):\\n    id = db.Column(db.Integer, primary_key=True)\\n    user_id = db.Column(db.Integer, db.ForeignKey('user.id'), nullable=False)\\n    product_id = db.Column(db.Integer, db.ForeignKey('product.id'), nullable=False)\\n    quantity = db.Column(db.Integer, nullable=False)\\n\\n    def __repr__(self):\\n        return '<Cart %r>' % self.id\\n\\n\\n# Order model\\nclass Order(db.Model):\\n    id = db.Column(db.Integer, primary_key=True)\\n    user_id = db.Column(db.Integer, db.ForeignKey('user.id'), nullable=False)\\n    product_id = db.Column(db.Integer, db.ForeignKey('product.id'), nullable=False)\\n    quantity = db.Column(db.Integer, nullable=False)\\n    order_date = db.Column(db.DateTime, nullable=False)\\n    delivery_date = db.Column(db.DateTime, nullable=True, default=None)\\n\\n    def __repr__(self):\\n        return '<Order %r>' % self.id\\n\\n\\n# Wishlist model\\nclass Wishlist(db.Model):\\n    id = db.Column(db.Integer, primary_key=True)\\n    user_id = db.Column(db.Integer, db.ForeignKey('user.id'), nullable=False)\\n    product_id = db.Column(db.Integer, db.ForeignKey('product.id'), nullable=False)\\n\\n    def __repr__(self):\\n        return '<Wishlist %r>' % self.id\\n\\n\\n# Initialize the database\\n# db.create_all()\", 'src/utils.py': 'def validate_data(data):\\n    # Implement data validation logic here\\n    pass\\n\\ndef hash_data(data):\\n    # Implement hashing logic here\\n    pass\\n\\ndef handle_session(session_data):\\n    # Implement session handling logic here\\n    pass'}\n"
     ]
    }
   ],
   "source": [
    "# Invoke\n",
    "response = orchestrator_worker.invoke({\"design_docs\": design_docs})\n",
    "\n"
   ]
  },
  {
   "cell_type": "code",
   "execution_count": 161,
   "metadata": {},
   "outputs": [
    {
     "data": {
      "text/plain": [
       "{'src/app.py': \"from flask import Flask\\n\\napp = Flask(__name__)\\n\\n@app.route('/\\\\')\\ndef home():\\n    return 'Welcome to the Flask app!'\\n\\nif __name__ == '__main__':\\n    app.run(debug=True)\",\n",
       " 'src/users.py': 'def register_user(user_data):\\n    # Function to register a new user\\n    pass\\n\\ndef login_user(user_credentials):\\n    # Function to handle user login\\n    pass\\n\\ndef logout_user(session_id):\\n    # Function to handle user logout\\n    pass\\n\\ndef manage_user_session(session_id):\\n    # Function to manage user session\\n    pass',\n",
       " 'src/products.py': 'def browse_products():\\n    # Code to browse products\\n    pass\\n\\ndef view_product_details(product_id):\\n    # Code to view product details\\n    pass\\n\\ndef manage_product_data():\\n    # Code to manage product data in the database\\n    pass',\n",
       " 'src/cart.py': 'class Cart:\\n    def __init__(self, db_connection):\\n        self.db_connection = db_connection\\n\\n    def add_item(self, item_id, quantity):\\n        # Add item to the cart\\n        pass\\n\\n    def remove_item(self, item_id):\\n        # Remove item from the cart\\n        pass\\n\\n    def view_items(self):\\n        # Return a list of items in the cart\\n        pass',\n",
       " 'src/checkout.py': 'def handle_checkout(payment_info, order_details):\\n    # Code to process the payment using secure payment gateways\\n    pass\\n\\n    # Code to submit the order\\n    pass',\n",
       " 'src/wishlist.py': 'def add_item_to_wishlist(item):\\n    # Add item to wishlist in the database\\n    pass\\n\\ndef remove_item_from_wishlist(item):\\n    # Remove item from wishlist in the database\\n    pass\\n\\ndef view_wishlist():\\n    # Retrieve and return the wishlist items from the database\\n    pass',\n",
       " 'src/templates/home.html': '<!DOCTYPE html>\\n<html lang=\"en\">\\n<head>\\n    <meta charset=\"UTF-8\">\\n    <meta name=\"viewport\" content=\"width=device-width, initial-scale=1.0\">\\n    <title>Welcome to Our Store</title>\\n</head>\\n<body>\\n    <header>\\n        <h1>Welcome to Our Online Store!</h1>\\n    </header>\\n    <main>\\n        <section>\\n            <h2>Featured Products</h2>\\n            <ul>\\n                <!-- Featured products will be dynamically inserted here -->\\n                <li>Product 1</li>\\n                <li>Product 2</li>\\n                <li>Product 3</li>\\n            </ul>\\n        </section>\\n        <section>\\n            <h2>Call to Action</h2>\\n            <p>Explore our selection and find the best deals on the market!</p>\\n            <button>Shop Now</button>\\n        </section>\\n    </main>\\n    <footer>\\n        <p>&copy; 2023 Our Online Store. All rights reserved.</p>\\n    </footer>\\n</body>\\n</html>',\n",
       " 'src/static/styles.css': '/* CSS file for styling the application, ensuring a consistent and visually appealing UI.\\n\\nReset some default browser styles\\n*/\\n* {\\n  margin: 0;\\n  padding: 0;\\n  box-sizing: border-box;\\n}\\n\\n/* Basic styles for the body */\\nbody {\\n  font-family: Arial, sans-serif;\\n  line-height: 1.6;\\n  background-color: #f4f4f4;\\n  color: #333;\\n}\\n\\n/* Container to center the content */\\n.container {\\n  width: 80%;\\n  margin: auto;\\n  overflow: hidden;\\n}\\n\\n/* Header styles */\\nheader {\\n  background: #35424a;\\n  color: #ffffff;\\n  padding-top: 30px;\\n  min-height: 70px;\\n  border-bottom: #e8491d 3px solid;\\n}\\n\\nheader h1, header p {\\n  text-align: center;\\n}\\n\\n/* Navigation styles */\\nnav {\\n  float: right;\\n  margin-top: 26px;\\n}\\n\\nnav ul {\\n  list-style: none;\\n}\\n\\nnav ul li {\\n  display: inline;\\n  margin-left: 30px;\\n}\\n\\nnav ul li a {\\n  color: #ffffff;\\n  text-decoration: none;\\n  text-transform: uppercase;\\n}\\n\\nnav ul li a:hover {\\n  border-bottom: 2px solid #e8491d;\\n}\\n\\n/* Main content styles */\\nmain {\\n  padding: 20px;\\n}\\n\\n/* Footer styles */\\nfooter {\\n  background: #35424a;\\n  color: #ffffff;\\n  text-align: center;\\n  padding: 10px;\\n}\\n\\n/* Responsive media query */\\n@media (max-width: 768px) {\\n  .container {\\n    width: 95%;\\n  }\\n\\n  nav {\\n    float: none;\\n  }\\n}',\n",
       " 'src/models.py': \"from flask_sqlalchemy import SQLAlchemy\\nfrom flask import Flask\\n\\napp = Flask(__name__)\\napp.config['SQLALCHEMY_DATABASE_URI'] = 'your_azure_sql_db_connection_string'\\ndb = SQLAlchemy(app)\\n\\n\\n# User model\\nclass User(db.Model):\\n    id = db.Column(db.Integer, primary_key=True)\\n    username = db.Column(db.String(80), unique=True, nullable=False)\\n    email = db.Column(db.String(120), unique=True, nullable=False)\\n    password = db.Column(db.String(120), nullable=False)\\n    carts = db.relationship('Cart', backref='user', lazy=True)\\n    orders = db.relationship('Order', backref='user', lazy=True)\\n    wishlists = db.relationship('Wishlist', backref='user', lazy=True)\\n\\n    def __repr__(self):\\n        return '<User %r>' % self.username\\n\\n\\n# Product model\\nclass Product(db.Model):\\n    id = db.Column(db.Integer, primary_key=True)\\n    name = db.Column(db.String(120), nullable=False)\\n    price = db.Column(db.Float, nullable=False)\\n    description = db.Column(db.String(200), nullable=True)\\n\\n    def __repr__(self):\\n        return '<Product %r>' % self.name\\n\\n\\n# Cart model\\nclass Cart(db.Model):\\n    id = db.Column(db.Integer, primary_key=True)\\n    user_id = db.Column(db.Integer, db.ForeignKey('user.id'), nullable=False)\\n    product_id = db.Column(db.Integer, db.ForeignKey('product.id'), nullable=False)\\n    quantity = db.Column(db.Integer, nullable=False)\\n\\n    def __repr__(self):\\n        return '<Cart %r>' % self.id\\n\\n\\n# Order model\\nclass Order(db.Model):\\n    id = db.Column(db.Integer, primary_key=True)\\n    user_id = db.Column(db.Integer, db.ForeignKey('user.id'), nullable=False)\\n    product_id = db.Column(db.Integer, db.ForeignKey('product.id'), nullable=False)\\n    quantity = db.Column(db.Integer, nullable=False)\\n    order_date = db.Column(db.DateTime, nullable=False)\\n    delivery_date = db.Column(db.DateTime, nullable=True, default=None)\\n\\n    def __repr__(self):\\n        return '<Order %r>' % self.id\\n\\n\\n# Wishlist model\\nclass Wishlist(db.Model):\\n    id = db.Column(db.Integer, primary_key=True)\\n    user_id = db.Column(db.Integer, db.ForeignKey('user.id'), nullable=False)\\n    product_id = db.Column(db.Integer, db.ForeignKey('product.id'), nullable=False)\\n\\n    def __repr__(self):\\n        return '<Wishlist %r>' % self.id\\n\\n\\n# Initialize the database\\n# db.create_all()\",\n",
       " 'src/utils.py': 'def validate_data(data):\\n    # Implement data validation logic here\\n    pass\\n\\ndef hash_data(data):\\n    # Implement hashing logic here\\n    pass\\n\\ndef handle_session(session_data):\\n    # Implement session handling logic here\\n    pass'}"
      ]
     },
     "execution_count": 161,
     "metadata": {},
     "output_type": "execute_result"
    }
   ],
   "source": [
    "response['generated_code']"
   ]
  },
  {
   "cell_type": "code",
   "execution_count": 162,
   "metadata": {},
   "outputs": [
    {
     "name": "stdout",
     "output_type": "stream",
     "text": [
      "Created file: generated_code\\src/app.py\n",
      "Created file: generated_code\\src/users.py\n",
      "Created file: generated_code\\src/products.py\n",
      "Created file: generated_code\\src/cart.py\n",
      "Created file: generated_code\\src/checkout.py\n",
      "Created file: generated_code\\src/wishlist.py\n",
      "Created file: generated_code\\src/templates/home.html\n",
      "Created file: generated_code\\src/static/styles.css\n",
      "Created file: generated_code\\src/models.py\n",
      "Created file: generated_code\\src/utils.py\n"
     ]
    }
   ],
   "source": [
    "for file_name, code_content in response['generated_code'].items():\n",
    "    # Create the output directory if it doesn't exist\n",
    "    output_dir = \"generated_code\"\n",
    "    os.makedirs(output_dir, exist_ok=True)\n",
    "    # Construct the full file path inside the output directory\n",
    "    full_file_path = os.path.join(output_dir, file_name)\n",
    "    # Extract and create the necessary folder structure\n",
    "    folder_path = os.path.dirname(full_file_path)\n",
    "    os.makedirs(folder_path, exist_ok=True)\n",
    "    # Write the code content to the file\n",
    "    with open(full_file_path, \"w\", encoding=\"utf-8\") as f:\n",
    "        f.write(code_content)\n",
    "\n",
    "    print(f\"Created file: {full_file_path}\")"
   ]
  },
  {
   "cell_type": "code",
   "execution_count": null,
   "metadata": {},
   "outputs": [],
   "source": []
  }
 ],
 "metadata": {
  "kernelspec": {
   "display_name": "Python 3",
   "language": "python",
   "name": "python3"
  },
  "language_info": {
   "codemirror_mode": {
    "name": "ipython",
    "version": 3
   },
   "file_extension": ".py",
   "mimetype": "text/x-python",
   "name": "python",
   "nbconvert_exporter": "python",
   "pygments_lexer": "ipython3",
   "version": "3.12.0"
  }
 },
 "nbformat": 4,
 "nbformat_minor": 2
}
